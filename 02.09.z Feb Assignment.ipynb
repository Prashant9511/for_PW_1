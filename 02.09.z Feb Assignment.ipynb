{
 "cells": [
  {
   "cell_type": "markdown",
   "id": "7c203737-5d9d-490f-b1e3-95d30de3e9e2",
   "metadata": {},
   "source": [
    "Q1: Create a vehicle class with an init method having instance variables as name_of_vehicle, max_speed and average_of_vehicle."
   ]
  },
  {
   "cell_type": "code",
   "execution_count": 13,
   "id": "7b643d5d-565b-405a-a768-30693b1cbe25",
   "metadata": {},
   "outputs": [],
   "source": [
    "class vehicle:\n",
    "    def __init__ (self, name_of_vehicle, max_speed, average_of_vehicle):\n",
    "        \n",
    "        self.name_of_vehicle = name_of_vehicle\n",
    "        self.max_speed = max_speed\n",
    "        self.average_of_vehicle = average_of_vehicle\n",
    "        \n",
    "vehicle_details = vehicle(\"Tata\", 350, 25)\n",
    "    "
   ]
  },
  {
   "cell_type": "code",
   "execution_count": 14,
   "id": "0da5869d-f292-47fb-834a-c30d138c7a91",
   "metadata": {},
   "outputs": [
    {
     "data": {
      "text/plain": [
       "25"
      ]
     },
     "execution_count": 14,
     "metadata": {},
     "output_type": "execute_result"
    }
   ],
   "source": [
    "vehicle_details.average_of_vehicle"
   ]
  },
  {
   "cell_type": "code",
   "execution_count": 17,
   "id": "9a707783-e739-4709-8cc2-812100a78614",
   "metadata": {},
   "outputs": [
    {
     "data": {
      "text/plain": [
       "350"
      ]
     },
     "execution_count": 17,
     "metadata": {},
     "output_type": "execute_result"
    }
   ],
   "source": [
    "vehicle_details.max_speed"
   ]
  },
  {
   "cell_type": "code",
   "execution_count": null,
   "id": "821e54d1-37a7-4f28-890a-656a77ae6427",
   "metadata": {},
   "outputs": [],
   "source": []
  },
  {
   "cell_type": "markdown",
   "id": "ab2857ce-ba6d-4e9d-8355-2b7b5bf96bf3",
   "metadata": {},
   "source": [
    "Q2. Create a child class car from the vehicle class created in Que 1, which will inherit the vehicle class.\n",
    "\n",
    "Create a method named seating_capacity which takes capacity as an argument and returns the name of the vehicle and its seating capacity."
   ]
  },
  {
   "cell_type": "code",
   "execution_count": 20,
   "id": "40388a55-a6ad-4171-9238-8341dd7dbf63",
   "metadata": {},
   "outputs": [],
   "source": [
    "class car(vehicle):\n",
    "    \n",
    "    def __init__ (self, name_of_vehicle, max_speed, average_of_vehicle):\n",
    "        super().__init__(name_of_vehicle, max_speed, average_of_vehicle)\n",
    "    \n",
    "    def seating_capacity(self, capacity):\n",
    "        \n",
    "        return f\"{self.name_of_vehicle} is having capacity of {capacity} persons\"\n",
    "            "
   ]
  },
  {
   "cell_type": "code",
   "execution_count": 21,
   "id": "54f68bb7-247f-48f6-8a41-0e3f8eb5a6d7",
   "metadata": {},
   "outputs": [
    {
     "name": "stdout",
     "output_type": "stream",
     "text": [
      "tata is having capacity of 5 persons\n"
     ]
    }
   ],
   "source": [
    "car = car(\"tata\", 350,25)\n",
    "\n",
    "print(car.seating_capacity(5))"
   ]
  },
  {
   "cell_type": "code",
   "execution_count": null,
   "id": "0d0992c7-2580-41c1-9d64-0376ba1034d2",
   "metadata": {},
   "outputs": [],
   "source": []
  },
  {
   "cell_type": "markdown",
   "id": "3377208b-55cf-4351-ab7c-65a2939a4b8b",
   "metadata": {},
   "source": [
    "Q3. What is multiple inheritance? Write a python code to demonstrate multiple inheritance."
   ]
  },
  {
   "cell_type": "markdown",
   "id": "a9dd6652-24c1-465a-81c6-ee4ffceb13e4",
   "metadata": {},
   "source": [
    "Multiple Inheritance: in this type of inheritance methode takes or inherit from its multiple parent class.\n",
    "\n",
    "for example a boy takes properties of his dad and mom at same time. "
   ]
  },
  {
   "cell_type": "code",
   "execution_count": 47,
   "id": "d4a6e3f8-3fff-4ad7-a67e-b4f441f7e359",
   "metadata": {},
   "outputs": [],
   "source": [
    "class vehical:\n",
    "    \n",
    "    def move(self):\n",
    "        return \"Vehical is moving\"\n",
    "\n",
    "class Engine:\n",
    "    \n",
    "    def start(self):\n",
    "        return \"Engine is started\"\n",
    "    \n",
    "class car(vehical,Engine):\n",
    "    pass"
   ]
  },
  {
   "cell_type": "code",
   "execution_count": 48,
   "id": "1ad1d5cb-9470-4eeb-aa2a-f061a3e05df8",
   "metadata": {},
   "outputs": [],
   "source": [
    "obj_car=car()"
   ]
  },
  {
   "cell_type": "code",
   "execution_count": 49,
   "id": "5cd11a8e-1841-4eeb-af06-115ac23df53e",
   "metadata": {},
   "outputs": [
    {
     "data": {
      "text/plain": [
       "'Vehical is moving'"
      ]
     },
     "execution_count": 49,
     "metadata": {},
     "output_type": "execute_result"
    }
   ],
   "source": [
    "obj_car.move()\n"
   ]
  },
  {
   "cell_type": "code",
   "execution_count": 50,
   "id": "e5f1263d-3fd5-4a78-9633-eddba329f128",
   "metadata": {},
   "outputs": [
    {
     "data": {
      "text/plain": [
       "'Engine is started'"
      ]
     },
     "execution_count": 50,
     "metadata": {},
     "output_type": "execute_result"
    }
   ],
   "source": [
    "obj_car.start()"
   ]
  },
  {
   "cell_type": "code",
   "execution_count": null,
   "id": "0fbaa967-9f41-4210-ac7e-f28d90637b94",
   "metadata": {},
   "outputs": [],
   "source": []
  },
  {
   "cell_type": "markdown",
   "id": "a65241dc-f68f-4011-9daa-3ab343a0a533",
   "metadata": {},
   "source": [
    "Q4. What are getter and setter in python? Create a class and create a getter and a setter method in this class."
   ]
  },
  {
   "cell_type": "markdown",
   "id": "ea7e6966-24d5-48a2-a8d7-d27006ca4c5b",
   "metadata": {},
   "source": [
    "getter: is use to get the value of private variable and\n",
    "\n",
    "setter: is use to set a value of private variable  \n",
    "    "
   ]
  },
  {
   "cell_type": "code",
   "execution_count": 38,
   "id": "e126d5c9-fe2d-49f5-b094-4fb18607963c",
   "metadata": {},
   "outputs": [],
   "source": [
    "class car:\n",
    "    \n",
    "    def __init__(self, name, chesi_num):\n",
    "        self.name = name\n",
    "        self.__chesi_num = chesi_num\n",
    "    \n",
    "    @property\n",
    "    def chesi_num_access(self):\n",
    "        return self.__chesi_num\n",
    "    \n",
    "    @chesi_num_access.setter\n",
    "    def set_chesi_num(self,num):\n",
    "        self.__chesi_num=num\n",
    "                \n",
    "    @chesi_num_access.getter\n",
    "    def get_chesi_num(self):\n",
    "        return self.__chesi_num"
   ]
  },
  {
   "cell_type": "code",
   "execution_count": 39,
   "id": "b0da058a-5059-4f3c-9fe0-03ceb5d5d38f",
   "metadata": {},
   "outputs": [],
   "source": [
    "car_obj=car(\"tata\",\"sdf46sfsd64sdf46\")"
   ]
  },
  {
   "cell_type": "code",
   "execution_count": 40,
   "id": "3f331a03-7bce-4207-a2aa-c07f00402f3b",
   "metadata": {},
   "outputs": [
    {
     "data": {
      "text/plain": [
       "'sdf46sfsd64sdf46'"
      ]
     },
     "execution_count": 40,
     "metadata": {},
     "output_type": "execute_result"
    }
   ],
   "source": [
    "car_obj.get_chesi_num"
   ]
  },
  {
   "cell_type": "code",
   "execution_count": 41,
   "id": "60c34f6d-6f3f-4611-8cde-3358e1de0b26",
   "metadata": {},
   "outputs": [],
   "source": [
    "car_obj.set_chesi_num=\"sdfdsf654654\""
   ]
  },
  {
   "cell_type": "markdown",
   "id": "b8c4a270-6d06-4b20-a9c0-65a1825219b3",
   "metadata": {},
   "source": [
    "car_obj.get_chesi_num"
   ]
  },
  {
   "cell_type": "code",
   "execution_count": null,
   "id": "a9244921-92a8-4801-b4fe-e455b14fdfb1",
   "metadata": {},
   "outputs": [],
   "source": []
  },
  {
   "cell_type": "code",
   "execution_count": null,
   "id": "39e2f6a6-459a-474a-b133-2d7cc6a85ab7",
   "metadata": {},
   "outputs": [],
   "source": []
  },
  {
   "cell_type": "markdown",
   "id": "4b3d717d-cea0-4c2e-b9f1-c3209f38cfef",
   "metadata": {},
   "source": [
    "Q5.What is method overriding in python? Write a python code to demonstrate method overriding."
   ]
  },
  {
   "cell_type": "markdown",
   "id": "d8effdc9-50e3-42e5-bd0a-6863b0ead4e8",
   "metadata": {},
   "source": [
    "overrriding is not tought by sir"
   ]
  },
  {
   "cell_type": "code",
   "execution_count": null,
   "id": "a8acf68f-fd31-44b9-90d1-e03249c573c0",
   "metadata": {},
   "outputs": [],
   "source": []
  }
 ],
 "metadata": {
  "kernelspec": {
   "display_name": "Python 3 (ipykernel)",
   "language": "python",
   "name": "python3"
  },
  "language_info": {
   "codemirror_mode": {
    "name": "ipython",
    "version": 3
   },
   "file_extension": ".py",
   "mimetype": "text/x-python",
   "name": "python",
   "nbconvert_exporter": "python",
   "pygments_lexer": "ipython3",
   "version": "3.10.8"
  }
 },
 "nbformat": 4,
 "nbformat_minor": 5
}
