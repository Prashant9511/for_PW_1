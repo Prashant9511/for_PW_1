{
 "cells": [
  {
   "cell_type": "markdown",
   "id": "9065de15-b6e8-4beb-95a2-db91c22af09b",
   "metadata": {},
   "source": [
    "Q1. You are writing code for a company. The requirement of the company is that you create a python function that will check whether the password entered by the user is correct or not. The function should take the password as input and return the string “Valid Password” if the entered password follows the below-given password guidelines else it should return “Invalid Password”.\n",
    "\n",
    "Note:\n",
    "\n",
    "1. The Password should contain at least two uppercase letters and at least two lowercase letters.\n",
    "2. The Password should contain at least a number and three special characters.\n",
    "3. The length of the password should be 10 characters long."
   ]
  },
  {
   "cell_type": "code",
   "execution_count": 63,
   "id": "58a2fb0c-5d3a-4c2c-9831-8892e69698b2",
   "metadata": {},
   "outputs": [],
   "source": [
    "import re\n",
    "def check_password(password):\n",
    "    if len(password) != 10:\n",
    "        return \"Invalid Password\"\n",
    "    digit=[]\n",
    "    uchar=[]\n",
    "    lchar=[]\n",
    "    spchar=[]\n",
    "    for i in password:\n",
    "        \n",
    "        if i.isdigit():\n",
    "            digit.append(i)\n",
    "        elif i.isupper():\n",
    "            uchar.append(i)\n",
    "        elif i.islower():\n",
    "            lchar.append(i)\n",
    "        elif re.search(r'\\w', password):\n",
    "            spchar.append(i)\n",
    "    \n",
    "    if len(digit) < 0:\n",
    "        return \"invalid password\"\n",
    "    elif len(uchar) < 2:\n",
    "        return \"invalid password\"\n",
    "    elif len (lchar) < 2:\n",
    "        return \"invalid password\"\n",
    "    elif len(spchar) < 3:\n",
    "        return \"invalid password\"\n",
    "    else:\n",
    "        return \"Valid password\"\n",
    "    print(spchar)\n",
    "    \n"
   ]
  },
  {
   "cell_type": "code",
   "execution_count": 64,
   "id": "8812a459-7324-4d71-b388-8a06ea9409cb",
   "metadata": {},
   "outputs": [
    {
     "data": {
      "text/plain": [
       "'Valid password'"
      ]
     },
     "execution_count": 64,
     "metadata": {},
     "output_type": "execute_result"
    }
   ],
   "source": [
    "password=check_password(\"Ja%@#52aDH\")\n",
    "password"
   ]
  },
  {
   "cell_type": "code",
   "execution_count": null,
   "id": "54b5c24c-a24a-4124-b5c1-d4ef85948768",
   "metadata": {},
   "outputs": [],
   "source": []
  },
  {
   "cell_type": "code",
   "execution_count": null,
   "id": "e4652514-d8dc-4f55-aecb-64cb554a7c31",
   "metadata": {},
   "outputs": [],
   "source": []
  },
  {
   "cell_type": "markdown",
   "id": "c2e816a6-eb95-474a-9184-4b5e6a8353cd",
   "metadata": {},
   "source": [
    "Q2. Solve the below-given questions using at least one of the following:\n",
    "    \n",
    "1. Lambda functioJ\n",
    "2. Filter functioJ\n",
    "3. Zap functioJ\n",
    "4. List ComprehensioI\n",
    "\n",
    "* Check if the string starts with a particular letter.\n",
    "\n",
    "* Check if the string is numeric.\n",
    "\n",
    "* Sort a list of tuples having fruit names and their quantity. [(\"mango\",99),(\"orange\",80), (\"grapes\", 1000)]\n",
    "* Find the squares of numbers from 1 to 10.\n",
    "* Find the cube root of numbers from 1 to 10.\n",
    "* Check if a given number is even.\n",
    "* Filter odd numbers from the given list. [1,2,3,4,5,6,7,8,9,10]\n",
    "* Sort a list of integers into positive and negative integers lists. [1,2,3,4,5,6,-1,-2,-3,-4,-5,0]"
   ]
  },
  {
   "cell_type": "markdown",
   "id": "4472e342-385d-4b66-9e4d-cdb549666943",
   "metadata": {},
   "source": [
    "============================================================="
   ]
  },
  {
   "cell_type": "markdown",
   "id": "e764e706-ff83-4c44-a777-ea3d7b4da445",
   "metadata": {},
   "source": [
    "* Check if the string starts with a particular letter."
   ]
  },
  {
   "cell_type": "code",
   "execution_count": 65,
   "id": "fcd67243-298c-454e-8aa0-d792178ec9d6",
   "metadata": {},
   "outputs": [
    {
     "name": "stdin",
     "output_type": "stream",
     "text": [
      "Enter your string:  rgsdfvfzv\n",
      "Enter the letter to check:  r\n"
     ]
    },
    {
     "data": {
      "text/plain": [
       "True"
      ]
     },
     "execution_count": 65,
     "metadata": {},
     "output_type": "execute_result"
    }
   ],
   "source": [
    "s=input(str(\"Enter your string: \"))\n",
    "\n",
    "letter = input(str(\"Enter the letter to check: \"))\n",
    "\n",
    "result= True if s.startswith(letter) else False\n",
    "result"
   ]
  },
  {
   "cell_type": "markdown",
   "id": "8e14ba96-afab-4501-999f-2d055a62f32b",
   "metadata": {},
   "source": [
    "OR"
   ]
  },
  {
   "cell_type": "code",
   "execution_count": 66,
   "id": "bb6b08fc-eef3-4dfd-a607-0b7e8481ccaf",
   "metadata": {},
   "outputs": [
    {
     "name": "stdin",
     "output_type": "stream",
     "text": [
      "Enter your string:  dsafzv\n",
      "Enter the letter to check:  s\n"
     ]
    },
    {
     "name": "stdout",
     "output_type": "stream",
     "text": [
      "False\n"
     ]
    }
   ],
   "source": [
    "s=input(str(\"Enter your string: \"))\n",
    "letter = str(input(\"Enter the letter to check: \"))\n",
    "startswith_letter = lambda x: print(\"True\") if x.startswith(letter) else print(\"False\")\n",
    "startswith_letter(s)"
   ]
  },
  {
   "cell_type": "markdown",
   "id": "e0f2fd80-54f0-41f2-a04f-b2c928ffd2b8",
   "metadata": {},
   "source": [
    "* Check if the string is numeric."
   ]
  },
  {
   "cell_type": "code",
   "execution_count": 67,
   "id": "a02ec47f-0bcc-43f3-ba42-1ba66656f852",
   "metadata": {},
   "outputs": [
    {
     "name": "stdin",
     "output_type": "stream",
     "text": [
      "Enter your string:  d65gf4ds561f6\n"
     ]
    },
    {
     "name": "stdout",
     "output_type": "stream",
     "text": [
      "String is not numeric\n"
     ]
    }
   ],
   "source": [
    "s=input(str(\"Enter your string: \"))\n",
    "\n",
    "print(\"string is numeric\") if s.isnumeric() else print(\"String is not numeric\")\n"
   ]
  },
  {
   "cell_type": "markdown",
   "id": "8cd90a8b-5d80-47bc-8200-10b064764320",
   "metadata": {},
   "source": [
    "OR"
   ]
  },
  {
   "cell_type": "code",
   "execution_count": 68,
   "id": "c25489e4-6017-4dc7-a59b-884f88bca59b",
   "metadata": {},
   "outputs": [
    {
     "name": "stdin",
     "output_type": "stream",
     "text": [
      "Enter your string:  549515263\n"
     ]
    },
    {
     "name": "stdout",
     "output_type": "stream",
     "text": [
      "string is numeric\n"
     ]
    }
   ],
   "source": [
    "s=input(str(\"Enter your string: \"))\n",
    "is_num = lambda x: print(\"string is numeric\") if x.isnumeric() else print(\"String is not numeric\")\n",
    "is_num(s)"
   ]
  },
  {
   "cell_type": "markdown",
   "id": "8f6457a4-abdc-4b1e-b1db-ec3f512d218b",
   "metadata": {},
   "source": [
    "* Sort a list of tuples having fruit names and their quantity. [(\"mango\",99),(\"orange\",80), (\"grapes\", 1000)]"
   ]
  },
  {
   "cell_type": "code",
   "execution_count": 69,
   "id": "9c607fc0-4dee-45d9-bfe4-6f9b3d52d74d",
   "metadata": {},
   "outputs": [
    {
     "name": "stdout",
     "output_type": "stream",
     "text": [
      "[('orange', 80), ('mango', 99), ('grapes', 1000)]\n"
     ]
    }
   ],
   "source": [
    "fruits = [(\"mango\", 99), (\"orange\", 80), (\"grapes\", 1000)]\n",
    "sorted_fruits = sorted(fruits, key=lambda x: x[1])\n",
    "print(sorted_fruits)"
   ]
  },
  {
   "cell_type": "markdown",
   "id": "04f43583-51ec-4330-87c4-9a0718074a4c",
   "metadata": {},
   "source": [
    "* Find the squares of numbers from 1 to 10.\n"
   ]
  },
  {
   "cell_type": "code",
   "execution_count": 70,
   "id": "1bb793e8-6f4f-4f2b-8b9c-ac43d9664267",
   "metadata": {},
   "outputs": [
    {
     "data": {
      "text/plain": [
       "[0, 1, 4, 9, 16, 25, 36, 49, 64, 81, 100]"
      ]
     },
     "execution_count": 70,
     "metadata": {},
     "output_type": "execute_result"
    }
   ],
   "source": [
    "list(map(lambda x : x**2, list(range(11))))"
   ]
  },
  {
   "cell_type": "markdown",
   "id": "a6420433-d381-442c-a85d-5638c8656522",
   "metadata": {},
   "source": [
    "* Find the cube root of numbers from 1 to 10."
   ]
  },
  {
   "cell_type": "code",
   "execution_count": 71,
   "id": "42337827-8a74-46a7-ab2f-5978dc687e13",
   "metadata": {},
   "outputs": [
    {
     "data": {
      "text/plain": [
       "[0, 1, 8, 27, 64, 125, 216, 343, 512, 729, 1000]"
      ]
     },
     "execution_count": 71,
     "metadata": {},
     "output_type": "execute_result"
    }
   ],
   "source": [
    "list(map(lambda x : x**3, list(range(11))))"
   ]
  },
  {
   "cell_type": "markdown",
   "id": "1ffefd49-60e3-4adc-ae31-e099a3133ecf",
   "metadata": {},
   "source": [
    "* Check if a given number is even."
   ]
  },
  {
   "cell_type": "code",
   "execution_count": 72,
   "id": "e54c57b6-4ecc-4f3c-8977-80269e30f2e3",
   "metadata": {},
   "outputs": [
    {
     "name": "stdin",
     "output_type": "stream",
     "text": [
      "Enter your num:  48\n"
     ]
    },
    {
     "name": "stdout",
     "output_type": "stream",
     "text": [
      "even\n"
     ]
    }
   ],
   "source": [
    "num=int(input(\"Enter your num: \"))\n",
    "\n",
    "even_or_odd = lambda x: print(\"even\") if x%2 == 0 else print(\"odd\")\n",
    "even_or_odd(num)"
   ]
  },
  {
   "cell_type": "markdown",
   "id": "dfcd570d-8bcc-4703-ab38-f77c6c040b29",
   "metadata": {},
   "source": [
    "* Filter odd numbers from the given list. [1,2,3,4,5,6,7,8,9,10]"
   ]
  },
  {
   "cell_type": "code",
   "execution_count": 73,
   "id": "af545ebe-0bc5-4b66-a083-2e39113ce39b",
   "metadata": {},
   "outputs": [
    {
     "data": {
      "text/plain": [
       "[1, 3, 5, 7, 9]"
      ]
     },
     "execution_count": 73,
     "metadata": {},
     "output_type": "execute_result"
    }
   ],
   "source": [
    "l=[1,2,3,4,5,6,7,8,9,10]\n",
    "\n",
    "list(filter(lambda x: x % 2 != 0, l))"
   ]
  },
  {
   "cell_type": "markdown",
   "id": "fa1d4a44-2f8b-4453-a0f4-9bab0f5e4529",
   "metadata": {},
   "source": [
    "* Sort a list of integers into positive and negative integers lists. [1,2,3,4,5,6,-1,-2,-3,-4,-5,0]"
   ]
  },
  {
   "cell_type": "code",
   "execution_count": null,
   "id": "0490cc03-1374-4a18-9809-0363fe5d40a5",
   "metadata": {},
   "outputs": [],
   "source": []
  },
  {
   "cell_type": "code",
   "execution_count": 74,
   "id": "f3d4e0d0-b09d-4688-8df7-9516cfd192eb",
   "metadata": {},
   "outputs": [
    {
     "name": "stdout",
     "output_type": "stream",
     "text": [
      "Positive Numbers: [1, 2, 3, 4, 5, 6, 0]\n",
      "Negative Numbers: [-1, -2, -3, -4, -5]\n"
     ]
    }
   ],
   "source": [
    "l = [1, 2, 3, 4, 5, 6, -1, -2, -3, -4, -5, 0]\n",
    "positive = []\n",
    "negative = []\n",
    "[positive.append(i) if i >= 0 else negative.append(i) for i in l]\n",
    "\n",
    "print(\"Positive Numbers:\", positive)\n",
    "print(\"Negative Numbers:\", negative)"
   ]
  },
  {
   "cell_type": "code",
   "execution_count": null,
   "id": "0a783962-c38d-480c-92f6-f1286b74eeb6",
   "metadata": {},
   "outputs": [],
   "source": []
  },
  {
   "cell_type": "code",
   "execution_count": null,
   "id": "184771d1-2c53-4832-9fac-fc583a7e9736",
   "metadata": {},
   "outputs": [],
   "source": []
  }
 ],
 "metadata": {
  "kernelspec": {
   "display_name": "Python 3 (ipykernel)",
   "language": "python",
   "name": "python3"
  },
  "language_info": {
   "codemirror_mode": {
    "name": "ipython",
    "version": 3
   },
   "file_extension": ".py",
   "mimetype": "text/x-python",
   "name": "python",
   "nbconvert_exporter": "python",
   "pygments_lexer": "ipython3",
   "version": "3.10.8"
  }
 },
 "nbformat": 4,
 "nbformat_minor": 5
}
