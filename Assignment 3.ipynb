{
 "cells": [
  {
   "cell_type": "markdown",
   "id": "e01804b9-2d89-4751-866a-c19d619a49d4",
   "metadata": {},
   "source": [
    "Q1: "
   ]
  },
  {
   "cell_type": "code",
   "execution_count": 1,
   "id": "89dffc0f-097b-42e9-afa8-41975d909a86",
   "metadata": {},
   "outputs": [
    {
     "name": "stdout",
     "output_type": "stream",
     "text": [
      "55\n",
      "3628800\n"
     ]
    }
   ],
   "source": [
    "sum1 = 0\n",
    "prod = 1\n",
    "\n",
    "for i in range (1 , 11):\n",
    "    sum1 = sum1 + i\n",
    "    prod = prod * i\n",
    "print(sum1)\n",
    "print(prod)\n"
   ]
  },
  {
   "cell_type": "code",
   "execution_count": 3,
   "id": "43ed2288-5e79-428a-bd63-c55ec08a607b",
   "metadata": {},
   "outputs": [
    {
     "name": "stdout",
     "output_type": "stream",
     "text": [
      "55\n",
      "3628800\n"
     ]
    }
   ],
   "source": [
    "sum1 = 0\n",
    "prod = 1\n",
    "a = 10\n",
    "while a > 0:\n",
    "    sum1 = sum1 + a\n",
    "    prod = prod * a\n",
    "    a = a - 1\n",
    "print(sum1)\n",
    "print(prod)\n"
   ]
  },
  {
   "cell_type": "code",
   "execution_count": 4,
   "id": "f4d422aa-0ea3-4e24-831b-ccf659d7ee16",
   "metadata": {},
   "outputs": [
    {
     "name": "stdout",
     "output_type": "stream",
     "text": [
      "55\n",
      "3628800\n"
     ]
    }
   ],
   "source": [
    "sum1 = 0\n",
    "prod = 1\n",
    "a = 1\n",
    "while a <= 10:\n",
    "    sum1 = sum1 + a\n",
    "    prod = prod * a\n",
    "    a = a + 1\n",
    "print(sum1)\n",
    "print(prod)\n"
   ]
  },
  {
   "cell_type": "markdown",
   "id": "0d8bf56d-c4c4-4578-a1a5-3302ab7fca67",
   "metadata": {},
   "source": [
    "Q2:"
   ]
  },
  {
   "cell_type": "code",
   "execution_count": 7,
   "id": "6b6599ad-1322-4aac-b365-630916685dad",
   "metadata": {},
   "outputs": [
    {
     "name": "stdout",
     "output_type": "stream",
     "text": [
      "Total bill:  369846.0\n"
     ]
    }
   ],
   "source": [
    "total_bill=0\n",
    "unit = 310\n",
    "f100=0\n",
    "n100=0\n",
    "n100_1=0\n",
    "a=0\n",
    "b=0\n",
    "c=0\n",
    "d= 0\n",
    "\n",
    "for i in range(unit):\n",
    "    if unit <= 100:\n",
    "        total_bill = unit * 4.5\n",
    "        \n",
    "    elif unit <= 200:\n",
    "        for i in range(unit):\n",
    "            if i <=100:\n",
    "                a = i * 4.5\n",
    "                f100 = f100 + a\n",
    "                continue\n",
    "            else:\n",
    "                b=i * 6\n",
    "                n100 = n100 + b\n",
    "            break\n",
    "        total_bill = f100 + n100\n",
    "        break\n",
    "            \n",
    "    elif unit <= 300:\n",
    "        for i in range(unit):\n",
    "            if i <=100:\n",
    "                a = i * 4.5\n",
    "                f100 = f100 + a\n",
    "                continue\n",
    "            elif i <= 200:\n",
    "                b=i * 6\n",
    "                n100 = n100 + b\n",
    "                continue\n",
    "            else:\n",
    "                c = i * 10\n",
    "                n100_1 = n100_1 + c\n",
    "                break\n",
    "        total_bill = f100 + n100 + n100_1\n",
    "        break\n",
    "    elif unit > 300:\n",
    "        for i in range(unit):\n",
    "            if i <=100:\n",
    "                a = i * 4.5\n",
    "                f100 = f100 + a\n",
    "                continue\n",
    "            elif i <= 200:\n",
    "                b=i * 6\n",
    "                n100 = n100 + b\n",
    "                continue\n",
    "            elif i <= 300:\n",
    "                c = i * 10\n",
    "                n100_1 = n100_1 + c\n",
    "                continue\n",
    "            else:\n",
    "                d = i * 20\n",
    "                n100_2 = d + i\n",
    "                break\n",
    "        total_bill = f100 + n100 + n100_1 + n100_2\n",
    "        break\n",
    "    \n",
    "    \n",
    "print(\"Total bill: \",total_bill)\n"
   ]
  },
  {
   "cell_type": "code",
   "execution_count": 24,
   "id": "71690ab8-51fa-4626-be1a-0b5c3f09f9b4",
   "metadata": {},
   "outputs": [
    {
     "name": "stdin",
     "output_type": "stream",
     "text": [
      "Enter used electricity units:  310\n"
     ]
    },
    {
     "name": "stdout",
     "output_type": "stream",
     "text": [
      "Total bill to pay:  2250.0\n"
     ]
    }
   ],
   "source": [
    "unit = int(input(\"Enter used electricity units: \"))\n",
    "total_bill=0\n",
    "f100=0\n",
    "if unit <= 100:\n",
    "    f100 = unit*4.5\n",
    "    total_bill = f100\n",
    "elif unit <= 200:\n",
    "    unit100 = 100\n",
    "    f100 = unit100 * 4.5\n",
    "    upto_200 = unit - 100\n",
    "    bill1 = upto_200 * 6\n",
    "    total_bill = f100 + bill1\n",
    "    \n",
    "elif unit <= 300:\n",
    "    unit100 = 100\n",
    "    f100 = unit100 * 4.5\n",
    "    upto_200 = 100\n",
    "    bill1 = upto_200 * 6\n",
    "    upto_300 = unit - 200\n",
    "    bill2 = upto_300 * 10\n",
    "    total_bill = f100 + bill1 + bill2\n",
    "\n",
    "else:\n",
    "    unit100 = 100\n",
    "    f100 = unit100 * 4.5\n",
    "    upto_200 = 100\n",
    "    bill1 = upto_200 * 6\n",
    "    upto_300 = 100\n",
    "    bill2 = upto_300 * 10\n",
    "    above_300 = unit - 300 \n",
    "    bill3 = above_300 * 20\n",
    "    total_bill = f100 + bill1 + bill2 + bill3\n",
    "    \n",
    "print(\"Total bill to pay: \",total_bill)"
   ]
  },
  {
   "cell_type": "code",
   "execution_count": 25,
   "id": "89f14e49-e7e8-4976-a3c9-989b16a01867",
   "metadata": {},
   "outputs": [
    {
     "name": "stdin",
     "output_type": "stream",
     "text": [
      "Enter used electricity units:  310\n"
     ]
    },
    {
     "name": "stdout",
     "output_type": "stream",
     "text": [
      "Total bill to pay:  2250.0\n"
     ]
    }
   ],
   "source": [
    "unit = int(input(\"Enter used electricity units: \"))\n",
    "total_bill=0\n",
    "f100=0\n",
    "if unit <= 100:\n",
    "    f100 = unit*4.5\n",
    "    total_bill = f100\n",
    "elif unit <= 200:\n",
    "    #unit100 = 100\n",
    "    f100 = 100 * 4.5\n",
    "    upto_200 = unit - 100\n",
    "    bill1 = upto_200 * 6\n",
    "    total_bill = f100 + bill1\n",
    "    \n",
    "elif unit <= 300:\n",
    "    #unit100 = 100\n",
    "    f100 = 100 * 4.5\n",
    "    #upto_200 = 100\n",
    "    bill1 = 100 * 6\n",
    "    upto_300 = unit - 200\n",
    "    bill2 = upto_300 * 10\n",
    "    total_bill = f100 + bill1 + bill2\n",
    "\n",
    "else:\n",
    "    #unit100 = 100\n",
    "    f100 = 100 * 4.5\n",
    "    #upto_200 = 100\n",
    "    bill1 = 100 * 6\n",
    "    #upto_300 = 100\n",
    "    bill2 = 100 * 10\n",
    "    above_300 = unit - 300 \n",
    "    bill3 = above_300 * 20\n",
    "    total_bill = f100 + bill1 + bill2 + bill3\n",
    "    \n",
    "print(\"Total bill to pay: \",total_bill)"
   ]
  },
  {
   "cell_type": "markdown",
   "id": "da6aad67-f97c-4152-aca1-ce51179fa336",
   "metadata": {},
   "source": [
    "Q:4"
   ]
  },
  {
   "cell_type": "markdown",
   "id": "6386fa0a-06ac-4c97-b501-ef0f6208d7d1",
   "metadata": {},
   "source": [
    "By usimg for loop"
   ]
  },
  {
   "cell_type": "code",
   "execution_count": 50,
   "id": "725f2844-cc99-4f96-9292-9f88616c42be",
   "metadata": {},
   "outputs": [
    {
     "name": "stdout",
     "output_type": "stream",
     "text": [
      "List of numbers of cube which are devisibal by 4 or 5:  [8, 64, 125, 216, 512, 1000, 1728, 2744, 3375, 4096, 5832, 8000, 10648, 13824, 15625, 17576, 21952, 27000, 32768, 39304, 42875, 46656, 54872, 64000, 74088, 85184, 91125, 97336, 110592, 125000, 140608, 157464, 166375, 175616, 195112, 216000, 238328, 262144, 274625, 287496, 314432, 343000, 373248, 405224, 421875, 438976, 474552, 512000, 551368, 592704, 614125, 636056, 681472, 729000, 778688, 830584, 857375, 884736, 941192, 1000000]\n"
     ]
    }
   ],
   "source": [
    "l1= list(range(1,101))\n",
    "cube = 0\n",
    "l_cube = []\n",
    "sortedlist=[]\n",
    "\n",
    "for i in l1:\n",
    "    l_cube.append(i ** 3)\n",
    "for j in l_cube:\n",
    "    if j % 5 == 0 or j % 4 == 0:\n",
    "        sortedlist.append(j)\n",
    "print(\"List of numbers of cube which are devisibal by 4 or 5: \", sortedlist) "
   ]
  },
  {
   "cell_type": "code",
   "execution_count": 51,
   "id": "5c3ab064-bc1e-4dac-9c21-30bf4eb03e49",
   "metadata": {},
   "outputs": [
    {
     "data": {
      "text/plain": [
       "60"
      ]
     },
     "execution_count": 51,
     "metadata": {},
     "output_type": "execute_result"
    }
   ],
   "source": [
    "len(sortedlist)"
   ]
  },
  {
   "cell_type": "markdown",
   "id": "98465ea1-3969-439b-b464-cb7d88c53046",
   "metadata": {},
   "source": [
    "by using while loop"
   ]
  },
  {
   "cell_type": "code",
   "execution_count": 58,
   "id": "eebaffa5-058c-43ab-9994-ff6c165e1ff5",
   "metadata": {},
   "outputs": [
    {
     "name": "stdout",
     "output_type": "stream",
     "text": [
      "List of numbers of cube which are devisibal by 4 or 5:  [8, 64, 125, 216, 512, 1000, 1728, 2744, 3375, 4096, 5832, 8000, 10648, 13824, 15625, 17576, 21952, 27000, 32768, 39304, 42875, 46656, 54872, 64000, 74088, 85184, 91125, 97336, 110592, 125000, 140608, 157464, 166375, 175616, 195112, 216000, 238328, 262144, 274625, 287496, 314432, 343000, 373248, 405224, 421875, 438976, 474552, 512000, 551368, 592704, 614125, 636056, 681472, 729000, 778688, 830584, 857375, 884736, 941192, 1000000]\n"
     ]
    }
   ],
   "source": [
    "l1= list(range(1,101))\n",
    "cube = 0\n",
    "l_cube = []\n",
    "sortedlist=[]\n",
    "n=1\n",
    "i=0\n",
    "    \n",
    "    l_cube.append(n ** 3)\n",
    "    if l_cube[i] % 4 == 0 or l_cube[i] % 5 == 0:\n",
    "        sortedlist.append(l_cube[i])\n",
    "    n=n+1\n",
    "    i=i+1\n",
    "print(\"List of numbers of cube which are devisibal by 4 or 5: \", sortedlist) "
   ]
  },
  {
   "cell_type": "markdown",
   "id": "321e3a6d-293a-43f4-8122-e84225618ca7",
   "metadata": {},
   "source": [
    "Q5:"
   ]
  },
  {
   "cell_type": "code",
   "execution_count": 39,
   "id": "7f009cfb-88f2-4aa1-82f6-d5e26902e3ac",
   "metadata": {},
   "outputs": [
    {
     "name": "stdout",
     "output_type": "stream",
     "text": [
      "List of voweles present in string:  ['I', 'a', 'o', 'e', 'o', 'e', 'a', 'a', 'a', 'i', 'e', 'i']\n",
      "Number of voweles in given string:  12\n"
     ]
    }
   ],
   "source": [
    "s = \"I want to become a data scientist\"\n",
    "\n",
    "v = [\"a\",\"e\",\"i\",\"o\",\"u\",\"A\",\"E\",\"I\",\"O\",\"U\"]\n",
    "s_v=[]\n",
    "count_v = 0\n",
    "\n",
    "for i in range(len(s)):\n",
    "    if s[i] in v:\n",
    "        s_v.append(s[i])\n",
    "        count_v = count_v + 1\n",
    "print(\"List of voweles present in string: \",s_v)\n",
    "print(\"Number of voweles in given string: \",count_v)"
   ]
  },
  {
   "cell_type": "code",
   "execution_count": null,
   "id": "0b85bd0e-960c-4f9e-a829-0b87d45ddf00",
   "metadata": {},
   "outputs": [],
   "source": []
  },
  {
   "cell_type": "code",
   "execution_count": null,
   "id": "b36787ce-a2c6-4625-9d12-903c152b821a",
   "metadata": {},
   "outputs": [],
   "source": []
  },
  {
   "cell_type": "code",
   "execution_count": null,
   "id": "936707b6-9b02-4f9c-a90f-a1b52f6f4ba8",
   "metadata": {},
   "outputs": [],
   "source": []
  },
  {
   "cell_type": "code",
   "execution_count": null,
   "id": "a10d2a33-62a0-4899-8cd3-38796bbce142",
   "metadata": {},
   "outputs": [],
   "source": []
  }
 ],
 "metadata": {
  "kernelspec": {
   "display_name": "Python 3 (ipykernel)",
   "language": "python",
   "name": "python3"
  },
  "language_info": {
   "codemirror_mode": {
    "name": "ipython",
    "version": 3
   },
   "file_extension": ".py",
   "mimetype": "text/x-python",
   "name": "python",
   "nbconvert_exporter": "python",
   "pygments_lexer": "ipython3",
   "version": "3.10.8"
  }
 },
 "nbformat": 4,
 "nbformat_minor": 5
}
