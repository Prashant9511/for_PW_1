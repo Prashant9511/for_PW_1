{
 "cells": [
  {
   "cell_type": "markdown",
   "id": "e75cb2c4-6e4a-4aa9-9886-f87755926f2d",
   "metadata": {},
   "source": [
    "Q1: What is abstraction in OOPs ? Explain with an example "
   ]
  },
  {
   "cell_type": "raw",
   "id": "ea11ab22-84ba-46e2-99ae-c14a79d8840c",
   "metadata": {},
   "source": [
    "Abstraction:  it is a type of methode to define a skeleton of a class which can be use as bluprint for multiple times as per requirments. \n",
    "                it contains MULTIPLE function and those function we can inherit in our new calss and modify it locally as per our own needs. as shown in example.\n",
    "\n",
    "for example:\n",
    "    \n",
    "    "
   ]
  },
  {
   "cell_type": "code",
   "execution_count": 6,
   "id": "5e384052-ce2d-456f-ae07-54531aa813a5",
   "metadata": {},
   "outputs": [],
   "source": [
    "import abc\n",
    "class department:\n",
    "    \n",
    "    @abc.abstractmethod\n",
    "    def department_names(self):\n",
    "        pass\n",
    "    @abc.abstractmethod\n",
    "    def department_budget(self):\n",
    "        pass\n",
    "    @abc.abstractmethod\n",
    "    def department_hod(self):\n",
    "        pass\n",
    "    \n",
    "#now this is a abstract class like a templet we have here and now we can use it as our own way shown bellow."
   ]
  },
  {
   "cell_type": "code",
   "execution_count": 13,
   "id": "5cd3d4e6-56ef-4139-8939-43451d7df727",
   "metadata": {},
   "outputs": [],
   "source": [
    "class company_departments(department):  #we have to pass that abstract class to inherite the properties\n",
    "    \n",
    "    def department_names(self):\n",
    "        return \"this will return department names\"\n",
    "        \n",
    "    def department_budget(self):\n",
    "        return \"this will return dept budget\""
   ]
  },
  {
   "cell_type": "code",
   "execution_count": 14,
   "id": "7b586fd5-78b6-43fb-9b69-74f1adf684c1",
   "metadata": {},
   "outputs": [
    {
     "data": {
      "text/plain": [
       "'this will return department names'"
      ]
     },
     "execution_count": 14,
     "metadata": {},
     "output_type": "execute_result"
    }
   ],
   "source": [
    "cd = company_departments()\n",
    "cd.department_names()"
   ]
  },
  {
   "cell_type": "code",
   "execution_count": 15,
   "id": "73885117-9b1b-4e3a-8078-7b36536d75ab",
   "metadata": {},
   "outputs": [
    {
     "data": {
      "text/plain": [
       "'this will return dept budget'"
      ]
     },
     "execution_count": 15,
     "metadata": {},
     "output_type": "execute_result"
    }
   ],
   "source": [
    "cd.department_budget()"
   ]
  },
  {
   "cell_type": "code",
   "execution_count": 16,
   "id": "2ec4236a-7fa1-4c82-b689-f8676b178118",
   "metadata": {},
   "outputs": [],
   "source": [
    "# We can also use that abstract class again for another case\n",
    "\n",
    "class pwskills(department):\n",
    "    \n",
    "    def department_names(self):\n",
    "        return \"This will return dept name in pwskills\"\n",
    "    \n",
    "    def department_hod(self):\n",
    "        return \"this will return dept hod's in pwskills\""
   ]
  },
  {
   "cell_type": "code",
   "execution_count": 17,
   "id": "b4b1ec39-5fdc-48f2-88c9-93d35dc9c614",
   "metadata": {},
   "outputs": [],
   "source": [
    "ps=pwskills()"
   ]
  },
  {
   "cell_type": "code",
   "execution_count": 19,
   "id": "b155e5ea-fb40-420d-9d03-9d4caf8aad3c",
   "metadata": {},
   "outputs": [
    {
     "data": {
      "text/plain": [
       "\"this will return dept hod's in pwskills\""
      ]
     },
     "execution_count": 19,
     "metadata": {},
     "output_type": "execute_result"
    }
   ],
   "source": [
    "ps.department_hod()"
   ]
  },
  {
   "cell_type": "code",
   "execution_count": null,
   "id": "ebe8bd72-4def-477d-8f68-7ac0adeac40c",
   "metadata": {},
   "outputs": [],
   "source": []
  },
  {
   "cell_type": "markdown",
   "id": "8a886727-c121-47d9-a708-dfb4b33bbcfb",
   "metadata": {},
   "source": [
    "Q2: Defference between abstraction and encapsulation. Explain with example"
   ]
  },
  {
   "cell_type": "raw",
   "id": "61ab9706-0221-4bd2-b354-cd0e98b59e40",
   "metadata": {},
   "source": [
    "Abstraction: is use for creating main blueprint to be use multiple times. It contains main charcteristic of a class\n",
    "\n",
    "Encapsulation: is use to hide unnecessery data from users. the data which is need to hide from outside world for that perpose we use encapsulation"
   ]
  },
  {
   "cell_type": "code",
   "execution_count": 20,
   "id": "1f6774b0-0579-4df0-8816-c0cabb26ceca",
   "metadata": {},
   "outputs": [],
   "source": [
    "# Abstraction example is given in above question answer.\n",
    "\n",
    "#Example for encapsulation"
   ]
  },
  {
   "cell_type": "code",
   "execution_count": 21,
   "id": "a4a1d5bd-4d7c-4267-afff-d918ebb8f614",
   "metadata": {},
   "outputs": [],
   "source": [
    "class car:\n",
    "    \n",
    "    def __init__ (self, color, YOM):\n",
    "\n",
    "        #here we have declered two self veraibles 1st one color is not incapsulate\n",
    "        #but 2nd YOM (Year of manufacturing) is encapsulated with adding __ in front of variable name\n",
    "        self.color = color\n",
    "        self.__YOM = YOM\n",
    "    "
   ]
  },
  {
   "cell_type": "code",
   "execution_count": 22,
   "id": "5cbffbe1-65b7-46db-98c1-e57e50701c48",
   "metadata": {},
   "outputs": [],
   "source": [
    "c = car(\"Yellow\", 2002)"
   ]
  },
  {
   "cell_type": "code",
   "execution_count": 26,
   "id": "98793f5a-d764-4ecd-afe3-ef502652e4c0",
   "metadata": {},
   "outputs": [
    {
     "data": {
      "text/plain": [
       "'Yellow'"
      ]
     },
     "execution_count": 26,
     "metadata": {},
     "output_type": "execute_result"
    }
   ],
   "source": [
    "#now we can access only car color but not YOM\n",
    "\n",
    "c.color"
   ]
  },
  {
   "cell_type": "code",
   "execution_count": 27,
   "id": "ee79b734-60a0-4d23-9ca1-e0b127791e23",
   "metadata": {},
   "outputs": [
    {
     "data": {
      "text/plain": [
       "2002"
      ]
     },
     "execution_count": 27,
     "metadata": {},
     "output_type": "execute_result"
    }
   ],
   "source": [
    "#to acess YOM there is a methode \n",
    "\n",
    "c._car__YOM"
   ]
  },
  {
   "cell_type": "code",
   "execution_count": null,
   "id": "323ae46b-628e-4e36-8f99-220949a11a89",
   "metadata": {},
   "outputs": [],
   "source": []
  },
  {
   "cell_type": "raw",
   "id": "3a7c7c41-203e-48ea-af3b-42431b9342f1",
   "metadata": {},
   "source": [
    "Q3: What is abc module in python? why is it used?"
   ]
  },
  {
   "cell_type": "markdown",
   "id": "369a0a2a-b307-4f12-91d9-e9a300e99f48",
   "metadata": {},
   "source": [
    "abc module will get us a abstraction class. we need to import it and declear it before user define function in abstract class as mentioned bellow.\n",
    "\n"
   ]
  },
  {
   "cell_type": "code",
   "execution_count": 29,
   "id": "a12240a6-448f-4eaa-bcc9-36018c6b2ba3",
   "metadata": {},
   "outputs": [],
   "source": [
    "import abc\n",
    "class department:\n",
    "    \n",
    "    @abc.abstractmethod  # this is how we need to declear abc\n",
    "    def department_names(self):\n",
    "        pass\n",
    "    @abc.abstractmethod\n",
    "    def department_budget(self):\n",
    "        pass\n",
    "    @abc.abstractmethod\n",
    "    def department_hod(self):\n",
    "        pass\n",
    "    \n",
    "#now this is a abstract class like a templet we have here and now we can use it as our own way shown bellow."
   ]
  },
  {
   "cell_type": "code",
   "execution_count": null,
   "id": "1aeaac1a-6210-4ff0-8915-4e0a4a6cf4f7",
   "metadata": {},
   "outputs": [],
   "source": []
  },
  {
   "cell_type": "markdown",
   "id": "dd14003e-4e31-449f-bc4c-617298111fea",
   "metadata": {},
   "source": [
    "Q4: How can we achive data abstraction"
   ]
  },
  {
   "cell_type": "raw",
   "id": "82265f98-643d-4afd-aabc-1f9e29924407",
   "metadata": {},
   "source": [
    "We can achive data abstraction by importing abc and declering abc.bstractmethod.\n",
    "\n",
    "we need to call @abc.abstractmethod before every function in abstract calss"
   ]
  },
  {
   "cell_type": "code",
   "execution_count": null,
   "id": "bfbc5d22-37f1-4d15-bea1-3e1acd607924",
   "metadata": {},
   "outputs": [],
   "source": []
  },
  {
   "cell_type": "markdown",
   "id": "a5c082b0-8cbb-44ca-a2ce-eb0a726d451a",
   "metadata": {},
   "source": [
    "Q5: can we create an instance of an abstract class? explain your answer"
   ]
  },
  {
   "cell_type": "markdown",
   "id": "f2c649ef-eb1b-4979-9801-cdc5801c4ce5",
   "metadata": {},
   "source": [
    "No we can not create an instance of abstract calss directly in python.\n",
    "\n",
    "we need to call abc (Abstract Base Classes) module and decleare it before ever abstract function"
   ]
  },
  {
   "cell_type": "code",
   "execution_count": null,
   "id": "1f84814d-3c9a-4ea4-963c-79a45da06be9",
   "metadata": {},
   "outputs": [],
   "source": []
  }
 ],
 "metadata": {
  "kernelspec": {
   "display_name": "Python 3 (ipykernel)",
   "language": "python",
   "name": "python3"
  },
  "language_info": {
   "codemirror_mode": {
    "name": "ipython",
    "version": 3
   },
   "file_extension": ".py",
   "mimetype": "text/x-python",
   "name": "python",
   "nbconvert_exporter": "python",
   "pygments_lexer": "ipython3",
   "version": "3.10.8"
  }
 },
 "nbformat": 4,
 "nbformat_minor": 5
}
