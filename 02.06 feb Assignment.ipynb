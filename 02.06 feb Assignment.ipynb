{
 "cells": [
  {
   "cell_type": "markdown",
   "id": "bb7f57ed-e151-4fa5-8733-f45b807682be",
   "metadata": {},
   "source": [
    "Q1: Create a function which will take a list as an argument and return the product of all the numbers after creating a flat list.\n",
    "Use the below-given list as an argument for your function.\n",
    "\n",
    "list1 = [1,2,3,4, [44,55,66, True], False, (34,56,78,89,34), {1,2,3,3,2,1}, {1:34, \"key2\": [55, 67, 78, 89], 4: (45, 22, 61, 34)}, [56, 'data science'], 'Machine Learning']\n",
    "\n",
    "Note: you must extract numeric keys and values of the dictionary also."
   ]
  },
  {
   "cell_type": "code",
   "execution_count": 85,
   "id": "26038f3a-ec14-40d3-8f65-7ddc142fd9a0",
   "metadata": {},
   "outputs": [
    {
     "name": "stdout",
     "output_type": "stream",
     "text": [
      "Flattened list for all int values is:  [1, 2, 3, 4, 44, 55, 66, 34, 56, 78, 89, 34, 1, 2, 3, 34, 55, 67, 78, 89, 45, 22, 61, 34, 1, 4, 56]\n",
      "Product of all int values in Flattened list:  4134711838987085478833841242112000\n"
     ]
    }
   ],
   "source": [
    "from functools import reduce\n",
    "def extract_numbers(lst):\n",
    "    numbers = []\n",
    "    for i in lst:\n",
    "        if isinstance(i,bool):\n",
    "            continue\n",
    "        if isinstance(i, (int, float, complex)):\n",
    "            numbers.append(i)\n",
    "        elif isinstance(i, (list,set,tuple)):\n",
    "            numbers += extract_numbers(i)\n",
    "        elif isinstance(i, dict):\n",
    "            numbers += extract_numbers(list(i.values()))\n",
    "            numbers += extract_numbers(list(i.keys()))\n",
    "    #print(numbers)\n",
    "       \n",
    "    return numbers\n",
    "\n",
    "def get_product(list2):\n",
    "    numbers_list = extract_numbers(list2)\n",
    "    print(\"Flattened list for all int values is: \", numbers_list)\n",
    "    print(\"Product of all int values in Flattened list: \", reduce(lambda x,y:x*y,numbers_list))\n",
    "    return \n",
    "\n",
    "\n",
    "list2 = [1, 2, 3, 4, [44, 55, 66, True], False, (34, 56, 78, 89, 34), {1, 2, 3, 3, 2, 1}, {1: 34, \"key2\": [55, 67, 78, 89], 4: (45, 22, 61, 34)}, [56, 'data science'], 'Machine Learning']\n",
    "\n",
    "\n",
    "get_product=get_product(list2)\n",
    "\n"
   ]
  },
  {
   "cell_type": "code",
   "execution_count": null,
   "id": "d7d1d6db-ac94-47da-a494-bf4982c2aa00",
   "metadata": {},
   "outputs": [],
   "source": []
  },
  {
   "cell_type": "code",
   "execution_count": null,
   "id": "dadb1aa4-61d7-4e6a-ab36-196d87106db5",
   "metadata": {},
   "outputs": [],
   "source": []
  },
  {
   "cell_type": "markdown",
   "id": "315d7705-7ddb-42fb-84e4-501f391e6bc8",
   "metadata": {},
   "source": [
    "Q2. Write a python program for encrypting a message sent to you by your friend. The logic of encryption should be such that, for a the output should be z. For b, the output should be y. For c, the output should\n",
    "be x respectively. Also, the whitespace should be replaced with a dollar sign. Keep the punctuation marks unchanged.\n",
    "\n",
    "Input Sentence: I want to become a Data Scientist.\n",
    "\n",
    "Encrypt the above input sentence using the program you just created.\n",
    "\n",
    "Note: Convert the given input sentence into lowercase before encrypting. The final output should be lowercase."
   ]
  },
  {
   "cell_type": "code",
   "execution_count": 78,
   "id": "8149c87e-326c-4f9a-869a-1d5131b08843",
   "metadata": {},
   "outputs": [],
   "source": [
    "def reverse_alphabet(text):\n",
    "    text=text.lower()\n",
    "    text_to_incript=\"\"\n",
    "    mapping = str.maketrans(\"abcdefghijklmnopqrstuvwxyz\", \"zyxwvutsrqponmlkjihgfedcba\")\n",
    "    #print(mapping)\n",
    "    for i in text:\n",
    "        if i  == \" \":\n",
    "            i =\"$\"\n",
    "        text_to_incript+=i\n",
    "        \n",
    "    return text_to_incript.translate(mapping)\n",
    "\n",
    "\n"
   ]
  },
  {
   "cell_type": "code",
   "execution_count": 79,
   "id": "742c4e9f-47a2-4c4a-b203-9af474d7c971",
   "metadata": {},
   "outputs": [
    {
     "name": "stdout",
     "output_type": "stream",
     "text": [
      "r$dzmg$gl$yvxlnv$z$wzgz$hxrvmgrhg.\n"
     ]
    }
   ],
   "source": [
    "text = \"I want to become a Data Scientist.\"\n",
    "print(reverse_alphabet(text))"
   ]
  },
  {
   "cell_type": "code",
   "execution_count": null,
   "id": "745c265e-b954-4b2d-816d-b138c7e6d636",
   "metadata": {},
   "outputs": [],
   "source": []
  },
  {
   "cell_type": "code",
   "execution_count": null,
   "id": "61671cab-0328-46ff-bda8-2bac91dca0fb",
   "metadata": {},
   "outputs": [],
   "source": []
  },
  {
   "cell_type": "code",
   "execution_count": null,
   "id": "c992084d-4578-420b-8122-719ce721d2ff",
   "metadata": {},
   "outputs": [],
   "source": []
  },
  {
   "cell_type": "code",
   "execution_count": null,
   "id": "bd747f58-142f-4df1-934f-ac701fc2e170",
   "metadata": {},
   "outputs": [],
   "source": []
  }
 ],
 "metadata": {
  "kernelspec": {
   "display_name": "Python 3 (ipykernel)",
   "language": "python",
   "name": "python3"
  },
  "language_info": {
   "codemirror_mode": {
    "name": "ipython",
    "version": 3
   },
   "file_extension": ".py",
   "mimetype": "text/x-python",
   "name": "python",
   "nbconvert_exporter": "python",
   "pygments_lexer": "ipython3",
   "version": "3.10.8"
  }
 },
 "nbformat": 4,
 "nbformat_minor": 5
}
