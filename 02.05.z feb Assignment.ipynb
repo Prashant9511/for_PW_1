{
 "cells": [
  {
   "cell_type": "markdown",
   "id": "b91c1b3d-1948-424f-bfb0-ed3b9caa4a76",
   "metadata": {},
   "source": [
    "Q1. Explain Class and Object with respect to Object-Oriented Programming. Give a suitable example."
   ]
  },
  {
   "cell_type": "markdown",
   "id": "c62061f9-dc88-4972-91fa-5549e8d8ecef",
   "metadata": {},
   "source": [
    "Class: Class is a template or blueprint to create an object. class will define the properties and methonds an object has.\n",
    "        class is just a classifaction of real world intity \n"
   ]
  },
  {
   "cell_type": "markdown",
   "id": "008d28aa-c8eb-43b3-bede-022fd7938687",
   "metadata": {},
   "source": [
    "Object: Object is an instance of class, Object is a real world intity"
   ]
  },
  {
   "cell_type": "markdown",
   "id": "8db95f8f-a14e-4e6b-8278-d1171e308c3e",
   "metadata": {},
   "source": [
    "example:"
   ]
  },
  {
   "cell_type": "code",
   "execution_count": 23,
   "id": "13fb597b-742e-4c12-aeba-027a47a6a7e0",
   "metadata": {},
   "outputs": [],
   "source": [
    "class car:  #class with properties and methodes\n",
    "    \n",
    "    def car_name(self):\n",
    "        \n",
    "        print(\"this is class of car\")"
   ]
  },
  {
   "cell_type": "code",
   "execution_count": 24,
   "id": "1c690081-a3d5-4b6f-8d7c-0329fbcbc709",
   "metadata": {},
   "outputs": [],
   "source": [
    "carname=car()   #object has been created"
   ]
  },
  {
   "cell_type": "code",
   "execution_count": 25,
   "id": "5dbe13dd-3f6f-4df9-bdbf-15b4bb551b25",
   "metadata": {},
   "outputs": [
    {
     "name": "stdout",
     "output_type": "stream",
     "text": [
      "this is class of car\n"
     ]
    }
   ],
   "source": [
    "carname.car_name()  #we called methods with the help of object"
   ]
  },
  {
   "cell_type": "code",
   "execution_count": null,
   "id": "3fe6aa9d-5eeb-477a-b413-0a8505d9c986",
   "metadata": {},
   "outputs": [],
   "source": []
  },
  {
   "cell_type": "markdown",
   "id": "ca30bcb5-ec91-4a07-838d-7155642c8f25",
   "metadata": {},
   "source": [
    "Q2. Name the four pillars of OOPs."
   ]
  },
  {
   "cell_type": "raw",
   "id": "20695439-c21b-4153-8d9b-6ecfea6cb0e1",
   "metadata": {},
   "source": [
    "1: Polymorphism : multiple behaviour \n",
    "2: Encapsulation\n",
    "3: Inheritance\n",
    "4: Abstraction"
   ]
  },
  {
   "cell_type": "code",
   "execution_count": null,
   "id": "52226231-d985-4d1d-bd81-c706632e3c56",
   "metadata": {},
   "outputs": [],
   "source": []
  },
  {
   "cell_type": "markdown",
   "id": "46f20035-3616-45d3-b3a2-5d9d8faa39d7",
   "metadata": {},
   "source": [
    "Q3. Explain why the \"__ init __()\" function is used. Give a suitable example."
   ]
  },
  {
   "cell_type": "raw",
   "id": "23a4aef1-cf06-4822-8fbc-10868fe6c3f6",
   "metadata": {},
   "source": [
    "__init__: is an constructor, it is use for passing the input data for class"
   ]
  },
  {
   "cell_type": "code",
   "execution_count": null,
   "id": "ba9d4de1-d235-41ba-a938-a2fb1e8f0cbd",
   "metadata": {},
   "outputs": [],
   "source": []
  },
  {
   "cell_type": "code",
   "execution_count": 26,
   "id": "f94e321b-7583-4a68-bce7-7385faca17e3",
   "metadata": {},
   "outputs": [],
   "source": [
    "class Car:\n",
    "    def __init__(self, make, model, year):\n",
    "        self.make = make\n",
    "        self.model = model\n",
    "        self.year = year\n",
    "        self.odometer_reading = 0\n",
    "    \n",
    "    def get_descriptive_name(self):\n",
    "        long_name = f\"{self.year} {self.make} {self.model}\"\n",
    "        return long_name.title()\n",
    "    \n",
    "    def read_odometer(self):\n",
    "        print(f\"This car has {self.odometer_reading} miles on it.\")\n",
    "    \n",
    "    def update_odometer(self, mileage):\n",
    "        if mileage >= self.odometer_reading:\n",
    "            self.odometer_reading = mileage\n",
    "        else:\n",
    "            print(\"You can't roll back an odometer!\")\n",
    "    \n",
    "    def increment_odometer(self, miles):\n",
    "        self.odometer_reading += miles\n"
   ]
  },
  {
   "cell_type": "code",
   "execution_count": 27,
   "id": "7b7d351e-9b2b-49f0-9ac7-e0ba7b2da6c4",
   "metadata": {},
   "outputs": [],
   "source": [
    "my_car = Car('toyota', 'camry', 2022)"
   ]
  },
  {
   "cell_type": "code",
   "execution_count": 28,
   "id": "dad58801-3d8f-4c06-9a12-47abb5215b65",
   "metadata": {},
   "outputs": [
    {
     "data": {
      "text/plain": [
       "'2022 Toyota Camry'"
      ]
     },
     "execution_count": 28,
     "metadata": {},
     "output_type": "execute_result"
    }
   ],
   "source": [
    "my_car.get_descriptive_name()"
   ]
  },
  {
   "cell_type": "code",
   "execution_count": 29,
   "id": "5ae04f22-080e-4670-b59c-74f5328d3250",
   "metadata": {},
   "outputs": [
    {
     "data": {
      "text/plain": [
       "'toyota'"
      ]
     },
     "execution_count": 29,
     "metadata": {},
     "output_type": "execute_result"
    }
   ],
   "source": [
    "my_car.make"
   ]
  },
  {
   "cell_type": "code",
   "execution_count": 30,
   "id": "4956c631-237e-446c-9563-7fcd6255b8fb",
   "metadata": {},
   "outputs": [],
   "source": [
    "my_car.update_odometer(50)"
   ]
  },
  {
   "cell_type": "code",
   "execution_count": 31,
   "id": "320b663e-8ea3-4d57-ba61-98cf86beecf1",
   "metadata": {},
   "outputs": [
    {
     "data": {
      "text/plain": [
       "'2022 Toyota Camry'"
      ]
     },
     "execution_count": 31,
     "metadata": {},
     "output_type": "execute_result"
    }
   ],
   "source": [
    "my_car.get_descriptive_name()"
   ]
  },
  {
   "cell_type": "code",
   "execution_count": 32,
   "id": "b2489493-4416-4b2d-9a4d-bda1c5a6ce08",
   "metadata": {},
   "outputs": [
    {
     "name": "stdout",
     "output_type": "stream",
     "text": [
      "This car has 50 miles on it.\n"
     ]
    }
   ],
   "source": [
    "my_car.read_odometer()"
   ]
  },
  {
   "cell_type": "code",
   "execution_count": 33,
   "id": "f86efad0-c69e-4e75-861d-5733414351e9",
   "metadata": {},
   "outputs": [],
   "source": [
    "my_car.increment_odometer(3.3)"
   ]
  },
  {
   "cell_type": "code",
   "execution_count": 34,
   "id": "b28f1af4-1b1b-492a-8dae-cce9bf67e05a",
   "metadata": {},
   "outputs": [
    {
     "name": "stdout",
     "output_type": "stream",
     "text": [
      "This car has 53.3 miles on it.\n"
     ]
    }
   ],
   "source": [
    "my_car.read_odometer()"
   ]
  },
  {
   "cell_type": "code",
   "execution_count": null,
   "id": "ec96a2a3-b52d-4969-9e49-4f19c9356dd9",
   "metadata": {},
   "outputs": [],
   "source": []
  },
  {
   "cell_type": "markdown",
   "id": "0aefd02a-802e-4656-82fd-dcbdd5ae1361",
   "metadata": {},
   "source": [
    "Q4. Why self is used in OOPs?"
   ]
  },
  {
   "cell_type": "markdown",
   "id": "fd43e8ab-c50b-4ded-9447-cd2272052e95",
   "metadata": {},
   "source": [
    "we use self to bind a methode in class with the class. so call will understand that the given methode is class's methode itself. we write self as a first parameter in class."
   ]
  },
  {
   "cell_type": "markdown",
   "id": "f0c30450-20ff-45c8-ad38-658f05a77848",
   "metadata": {},
   "source": [
    "When you create a new instance of a class, it has its own set of instance variables and methods. The \"self\" keyword allows you to access and manipulate these instance variables and methods within the class. By using \"self\" in your code, you can make sure that your methods and instance variables are being accessed and modified for the correct instance of the class."
   ]
  },
  {
   "cell_type": "code",
   "execution_count": null,
   "id": "dd4d5086-c27e-426b-9949-ab2142280ea1",
   "metadata": {},
   "outputs": [],
   "source": []
  },
  {
   "cell_type": "markdown",
   "id": "42c4b2ac-b34e-43d4-934e-6def583f6266",
   "metadata": {},
   "source": [
    "Q5. What is inheritance? Give an example for each type of inheritance."
   ]
  },
  {
   "cell_type": "markdown",
   "id": "5faa0f5a-2e56-4d3a-aa68-3fc066315511",
   "metadata": {},
   "source": [
    "Inheritance:  as a child of our parents we inherit or get a lot of propertis from our parents. such as color, eyes shade, behavior, etc. Just like that a child class takes similler properties from its parent class and it is called inheritance."
   ]
  },
  {
   "cell_type": "markdown",
   "id": "71e20e2b-c03d-440f-b488-a2ed910da9c2",
   "metadata": {},
   "source": [
    "1: Single inheritance"
   ]
  },
  {
   "cell_type": "code",
   "execution_count": 63,
   "id": "da40091c-b407-4538-b96e-3627ad3c4ef2",
   "metadata": {},
   "outputs": [],
   "source": [
    "class test:\n",
    "    \n",
    "    def test_meth(self):\n",
    "        return \"this is my first class\"\n",
    "    \n",
    "class child_test(test):\n",
    "    pass\n"
   ]
  },
  {
   "cell_type": "code",
   "execution_count": 64,
   "id": "0373244f-4bc7-400a-abe5-2ec435aede68",
   "metadata": {},
   "outputs": [],
   "source": [
    "child_obj=child_test()"
   ]
  },
  {
   "cell_type": "code",
   "execution_count": 65,
   "id": "97389293-5635-4205-9fab-16814e7edcee",
   "metadata": {},
   "outputs": [
    {
     "data": {
      "text/plain": [
       "'this is my first class'"
      ]
     },
     "execution_count": 65,
     "metadata": {},
     "output_type": "execute_result"
    }
   ],
   "source": [
    "child_obj.test_meth()"
   ]
  },
  {
   "cell_type": "markdown",
   "id": "bf28ff8c-0588-400a-ace5-9540e1bcb10e",
   "metadata": {},
   "source": [
    "2: multilable inheritance"
   ]
  },
  {
   "cell_type": "code",
   "execution_count": 80,
   "id": "45897980-5cb5-4510-bbd6-fc190137c2db",
   "metadata": {},
   "outputs": [],
   "source": [
    "class class1:\n",
    "    def test_class1(self):\n",
    "        return \"This is a meathod from class1\"  \n",
    "    \n",
    "class class2(class1):\n",
    "    def test_class2(self):\n",
    "        return \"this is a meth from class2\"\n",
    "    \n",
    "class class3 (class2):\n",
    "    pass"
   ]
  },
  {
   "cell_type": "code",
   "execution_count": 81,
   "id": "25ad2697-7aae-4d0a-bfc7-adae17757e61",
   "metadata": {},
   "outputs": [],
   "source": [
    "obj_class3 = class3()"
   ]
  },
  {
   "cell_type": "code",
   "execution_count": 82,
   "id": "c479662f-c3a3-4cf6-8d5d-625220072e99",
   "metadata": {},
   "outputs": [
    {
     "data": {
      "text/plain": [
       "'This is a meathod from class1'"
      ]
     },
     "execution_count": 82,
     "metadata": {},
     "output_type": "execute_result"
    }
   ],
   "source": [
    "obj_class3.test_class1()"
   ]
  },
  {
   "cell_type": "markdown",
   "id": "bc4e3022-511a-4f51-9e6b-48ca11271f02",
   "metadata": {},
   "source": [
    "3: multiple inheritance"
   ]
  },
  {
   "cell_type": "code",
   "execution_count": 83,
   "id": "495c95f4-cb3f-4825-8b7e-d1d7756544ea",
   "metadata": {},
   "outputs": [],
   "source": [
    "class class1:\n",
    "    def test_class1(self):\n",
    "        return \"this is my class1\"\n",
    "    \n",
    "class class2:\n",
    "    def test_class2(self):\n",
    "        return \"this is my class2\"\n",
    "\n",
    "class class3(class1, class2):\n",
    "    pass"
   ]
  },
  {
   "cell_type": "code",
   "execution_count": 84,
   "id": "d05a302d-2292-47e2-b80a-d9ce4295d405",
   "metadata": {},
   "outputs": [],
   "source": [
    "obj_class3 = class3()"
   ]
  },
  {
   "cell_type": "code",
   "execution_count": 85,
   "id": "68dc5f95-d91a-4c37-ad06-a1aa68901440",
   "metadata": {},
   "outputs": [
    {
     "data": {
      "text/plain": [
       "'this is my class1'"
      ]
     },
     "execution_count": 85,
     "metadata": {},
     "output_type": "execute_result"
    }
   ],
   "source": [
    "obj_class3.test_class1()"
   ]
  },
  {
   "cell_type": "code",
   "execution_count": 86,
   "id": "e46f64cd-0d36-44cd-a185-aa83b107b06a",
   "metadata": {},
   "outputs": [
    {
     "data": {
      "text/plain": [
       "'this is my class2'"
      ]
     },
     "execution_count": 86,
     "metadata": {},
     "output_type": "execute_result"
    }
   ],
   "source": [
    "obj_class3.test_class2()"
   ]
  },
  {
   "cell_type": "code",
   "execution_count": null,
   "id": "e1718f35-9902-48d6-9fe4-72992f2a3b0f",
   "metadata": {},
   "outputs": [],
   "source": []
  },
  {
   "cell_type": "code",
   "execution_count": null,
   "id": "d8f2f532-459c-4863-bf22-e26319f21c89",
   "metadata": {},
   "outputs": [],
   "source": []
  },
  {
   "cell_type": "code",
   "execution_count": null,
   "id": "92e5a890-4f9c-476e-a19c-609841c8f731",
   "metadata": {},
   "outputs": [],
   "source": []
  },
  {
   "cell_type": "code",
   "execution_count": null,
   "id": "64653829-772d-431f-adcf-48c807fa1824",
   "metadata": {},
   "outputs": [],
   "source": []
  },
  {
   "cell_type": "code",
   "execution_count": null,
   "id": "3dd6d458-a8a8-40aa-b3c2-4197e13e6a01",
   "metadata": {},
   "outputs": [],
   "source": []
  },
  {
   "cell_type": "code",
   "execution_count": null,
   "id": "e6bf22cd-2bd3-4234-9de5-de12acfa89a3",
   "metadata": {},
   "outputs": [],
   "source": []
  },
  {
   "cell_type": "code",
   "execution_count": null,
   "id": "1c73a78d-dbf5-45fe-8086-ee0c75dbc40d",
   "metadata": {},
   "outputs": [],
   "source": []
  },
  {
   "cell_type": "code",
   "execution_count": null,
   "id": "1c10932d-e990-45d3-936a-221d0d4ca2c2",
   "metadata": {},
   "outputs": [],
   "source": []
  }
 ],
 "metadata": {
  "kernelspec": {
   "display_name": "Python 3 (ipykernel)",
   "language": "python",
   "name": "python3"
  },
  "language_info": {
   "codemirror_mode": {
    "name": "ipython",
    "version": 3
   },
   "file_extension": ".py",
   "mimetype": "text/x-python",
   "name": "python",
   "nbconvert_exporter": "python",
   "pygments_lexer": "ipython3",
   "version": "3.10.8"
  }
 },
 "nbformat": 4,
 "nbformat_minor": 5
}
