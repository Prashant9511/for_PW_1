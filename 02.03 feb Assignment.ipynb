{
 "cells": [
  {
   "cell_type": "markdown",
   "id": "00fd3067-6ee4-4a4c-bf2f-a5837c7ff7a7",
   "metadata": {},
   "source": [
    "Q1: Which keyword is used to create a function? Create a function to return a list of odd numbers in the range of 1 to 25."
   ]
  },
  {
   "cell_type": "markdown",
   "id": "41d3da91-a94b-4825-91a7-a57fa428e063",
   "metadata": {},
   "source": [
    "def key word is use to create a function"
   ]
  },
  {
   "cell_type": "code",
   "execution_count": 10,
   "id": "8a0bf167-87b6-4ece-89da-e247d91dc1c7",
   "metadata": {},
   "outputs": [
    {
     "data": {
      "text/plain": [
       "[1,\n",
       " 2,\n",
       " 3,\n",
       " 4,\n",
       " 5,\n",
       " 6,\n",
       " 7,\n",
       " 8,\n",
       " 9,\n",
       " 10,\n",
       " 11,\n",
       " 12,\n",
       " 13,\n",
       " 14,\n",
       " 15,\n",
       " 16,\n",
       " 17,\n",
       " 18,\n",
       " 19,\n",
       " 20,\n",
       " 21,\n",
       " 22,\n",
       " 23,\n",
       " 24,\n",
       " 25]"
      ]
     },
     "execution_count": 10,
     "metadata": {},
     "output_type": "execute_result"
    }
   ],
   "source": [
    "l1=list(range(1,26))\n",
    "l1"
   ]
  },
  {
   "cell_type": "code",
   "execution_count": 11,
   "id": "8d0ec456-3cff-4038-9225-c084660477c6",
   "metadata": {},
   "outputs": [],
   "source": [
    "def odd_num(a):\n",
    "    odd_num_list=[]\n",
    "    for i in a:\n",
    "        if i % 2 != 0:\n",
    "            odd_num_list.append(i)\n",
    "    return odd_num_list"
   ]
  },
  {
   "cell_type": "code",
   "execution_count": 12,
   "id": "707f05a0-ac03-4dac-b059-36a44300b16f",
   "metadata": {},
   "outputs": [
    {
     "data": {
      "text/plain": [
       "[1, 3, 5, 7, 9, 11, 13, 15, 17, 19, 21, 23, 25]"
      ]
     },
     "execution_count": 12,
     "metadata": {},
     "output_type": "execute_result"
    }
   ],
   "source": [
    "odd_num(l1)"
   ]
  },
  {
   "cell_type": "code",
   "execution_count": null,
   "id": "709ccc24-0262-499d-acd8-d8b8b24636b0",
   "metadata": {},
   "outputs": [],
   "source": []
  },
  {
   "cell_type": "markdown",
   "id": "33550993-2b2c-4995-b732-f2f95ce53e66",
   "metadata": {},
   "source": [
    "Q2: Why *args and **kwargs is used in some functions? Create a function each for *args and **kwargs to demonstrate their use."
   ]
  },
  {
   "cell_type": "code",
   "execution_count": 16,
   "id": "eb6aa3aa-7bb1-422e-b115-8cbd4baa4897",
   "metadata": {},
   "outputs": [],
   "source": [
    "# *args : use for multiple input in tupal\n",
    "\n",
    "def args_fun(*args):\n",
    "    for i in args:\n",
    "        print(i)"
   ]
  },
  {
   "cell_type": "code",
   "execution_count": 17,
   "id": "977926f0-9289-46dc-8347-ee105b3898e5",
   "metadata": {},
   "outputs": [
    {
     "name": "stdout",
     "output_type": "stream",
     "text": [
      "prashant\n",
      "52\n",
      "45.2\n",
      "5\n",
      "*\n"
     ]
    }
   ],
   "source": [
    "args_fun(\"prashant\", 52,45.2,5,\"*\")"
   ]
  },
  {
   "cell_type": "code",
   "execution_count": 39,
   "id": "590b6385-891b-4f75-812e-b6dad570cea5",
   "metadata": {},
   "outputs": [],
   "source": [
    "# **args : use for dict data type\n",
    "\n",
    "def kwargs_fun(**kwargs):\n",
    "    for i,j in kwargs.items():\n",
    "        print( i,\":\",j)"
   ]
  },
  {
   "cell_type": "code",
   "execution_count": 40,
   "id": "e151c218-4bba-4a1b-ab7e-40101efe4e1c",
   "metadata": {},
   "outputs": [
    {
     "name": "stdout",
     "output_type": "stream",
     "text": [
      "name : prashant\n",
      "age : 28\n",
      "city : Jalgaon\n",
      "country : India\n"
     ]
    }
   ],
   "source": [
    "kwargs_fun(name=\"prashant\",age=28,city=\"Jalgaon\",country=\"India\")"
   ]
  },
  {
   "cell_type": "code",
   "execution_count": null,
   "id": "02700840-47a7-47ee-b748-a53843fa8aa6",
   "metadata": {},
   "outputs": [],
   "source": []
  },
  {
   "cell_type": "markdown",
   "id": "0bbdbeb9-a6a3-4cbc-8641-f8e7de71f32f",
   "metadata": {},
   "source": [
    "Q3: What is an iterator in python? Name the method used to initialise the iterator object and the method used for iteration. Use these methods to print the first five elements of the given list [2, 4, 6, 8, 10, 12, 14, 16, 18, 20]."
   ]
  },
  {
   "cell_type": "markdown",
   "id": "5bc5509d-6833-4cda-8663-95fd1820ea23",
   "metadata": {},
   "source": [
    "Iterator: if we are able to access The given object as per index value that object will be eterator\n",
    "\n",
    "for example: s = \"pwskills\" , This string is not Iterator it is iterable to convert this string in iterator and access the each and every charator we need to use \"iter\" function\n",
    "\n",
    "    "
   ]
  },
  {
   "cell_type": "markdown",
   "id": "20c40897-4d97-4f79-bcb8-c32b48e01217",
   "metadata": {},
   "source": [
    "Methode:\n",
    "    \n",
    "    Iterator: __iter__(), this is a methode for to initialisinfg iterator object.\n",
    "    \n",
    "    Iterable: __next__(), this is a methode used for iteration. also for loop, while loop have inbuild iterator there we do not have to use iter function"
   ]
  },
  {
   "cell_type": "markdown",
   "id": "1c24ee34-6e4f-493a-8daa-71eb8afc4cd8",
   "metadata": {},
   "source": [
    "1:"
   ]
  },
  {
   "cell_type": "code",
   "execution_count": 1,
   "id": "0254e6f9-3e45-4b54-a5fa-3ea7694b7eeb",
   "metadata": {},
   "outputs": [
    {
     "name": "stdout",
     "output_type": "stream",
     "text": [
      "2\n",
      "4\n",
      "6\n",
      "8\n",
      "10\n"
     ]
    }
   ],
   "source": [
    "l=[2, 4, 6, 8, 10, 12, 14, 16, 18, 20]\n",
    "\n",
    "l_iter = iter(l)\n",
    "\n",
    "for i in range(5):\n",
    "    print(next(l_iter))"
   ]
  },
  {
   "cell_type": "markdown",
   "id": "05d5ed23-6c36-40c0-a02a-681145097458",
   "metadata": {},
   "source": [
    "2:"
   ]
  },
  {
   "cell_type": "code",
   "execution_count": 5,
   "id": "f1763537-c9a8-4b60-96da-52e3ab59eb75",
   "metadata": {},
   "outputs": [
    {
     "name": "stdout",
     "output_type": "stream",
     "text": [
      "2\n",
      "4\n",
      "6\n",
      "8\n",
      "10\n"
     ]
    }
   ],
   "source": [
    "l=[2, 4, 6, 8, 10, 12, 14, 16, 18, 20]\n",
    "\n",
    "for i in l:\n",
    "    if l.index(i)<5:\n",
    "        print (i)"
   ]
  },
  {
   "cell_type": "code",
   "execution_count": 3,
   "id": "7e615024-3fd7-4ab6-9c62-c74b4d3e2637",
   "metadata": {},
   "outputs": [
    {
     "name": "stdout",
     "output_type": "stream",
     "text": [
      "2\n",
      "4\n",
      "6\n",
      "8\n",
      "10\n"
     ]
    }
   ],
   "source": [
    "l=[2, 4, 6, 8, 10, 12, 14, 16, 18, 20]\n",
    "\n",
    "a=0\n",
    "i=0\n",
    "while a<5:\n",
    "    print(l[i])\n",
    "    i=i+1\n",
    "    a=a+1"
   ]
  },
  {
   "cell_type": "code",
   "execution_count": null,
   "id": "be8f129a-11d7-4905-bedb-be3ffb52efc3",
   "metadata": {},
   "outputs": [],
   "source": []
  },
  {
   "cell_type": "markdown",
   "id": "fc5647ea-e7fb-466a-bcae-c2064a0053b9",
   "metadata": {},
   "source": [
    "Q4. What is a generator function in python? Why yield keyword is used? Give an example of a generator function."
   ]
  },
  {
   "cell_type": "markdown",
   "id": "4d0cde7e-7658-40a1-88dd-c859a3678b39",
   "metadata": {},
   "source": [
    "Generator fun: this is a function is use to generat a certain output.\n",
    "                The generator function are useful when we want to generate a sequence of output but do not wants to store in a memory. For example: range(): this is a function we use to generate a iterator range of given limits"
   ]
  },
  {
   "cell_type": "markdown",
   "id": "1fc31133-e2b4-4aee-8f7b-a192444fffcd",
   "metadata": {},
   "source": [
    "Yield:  This is a keyword use to generate a output without termenating a function.\n",
    "\n",
    "for ex: when we use return it gives us a output and termenate a function but if we use yield we can re run the function using for or other methode again and again and it wount termenate the function till our externail for or while loop condition not become false"
   ]
  },
  {
   "cell_type": "code",
   "execution_count": 15,
   "id": "5b58dcd1-4de7-471a-a4d6-96e728aa8a1e",
   "metadata": {},
   "outputs": [
    {
     "name": "stdout",
     "output_type": "stream",
     "text": [
      "0\n",
      "1\n",
      "4\n",
      "9\n",
      "16\n"
     ]
    }
   ],
   "source": [
    "def sq(n):\n",
    "    for i in range(n):\n",
    "        yield i**2\n",
    "\n",
    "for num in sq(5):\n",
    "    print(num)"
   ]
  },
  {
   "cell_type": "markdown",
   "id": "b4d708e7-96de-47d1-94f8-5111ab7f9f17",
   "metadata": {},
   "source": [
    "Q5. Create a generator function for prime numbers less than 1000. Use the next() method to print the first 20 prime numbers."
   ]
  },
  {
   "cell_type": "code",
   "execution_count": 154,
   "id": "b17c2ae4-d5e3-4a2c-a6ec-e2028f8318b4",
   "metadata": {},
   "outputs": [
    {
     "name": "stdout",
     "output_type": "stream",
     "text": [
      "2\n",
      "3\n",
      "5\n",
      "7\n",
      "11\n",
      "13\n",
      "17\n",
      "19\n",
      "23\n",
      "29\n",
      "31\n",
      "37\n",
      "41\n",
      "43\n",
      "47\n",
      "53\n",
      "59\n",
      "61\n",
      "67\n",
      "71\n",
      "73\n",
      "79\n",
      "83\n",
      "89\n",
      "97\n",
      "101\n",
      "103\n",
      "107\n",
      "109\n",
      "113\n",
      "127\n",
      "131\n",
      "137\n",
      "139\n",
      "149\n",
      "151\n",
      "157\n",
      "163\n",
      "167\n",
      "173\n",
      "179\n",
      "181\n",
      "191\n",
      "193\n",
      "197\n",
      "199\n",
      "211\n",
      "223\n",
      "227\n",
      "229\n",
      "233\n",
      "239\n",
      "241\n",
      "251\n",
      "257\n",
      "263\n",
      "269\n",
      "271\n",
      "277\n",
      "281\n",
      "283\n",
      "293\n",
      "307\n",
      "311\n",
      "313\n",
      "317\n",
      "331\n",
      "337\n",
      "347\n",
      "349\n",
      "353\n",
      "359\n",
      "367\n",
      "373\n",
      "379\n",
      "383\n",
      "389\n",
      "397\n",
      "401\n",
      "409\n",
      "419\n",
      "421\n",
      "431\n",
      "433\n",
      "439\n",
      "443\n",
      "449\n",
      "457\n",
      "461\n",
      "463\n",
      "467\n",
      "479\n",
      "487\n",
      "491\n",
      "499\n",
      "503\n",
      "509\n",
      "521\n",
      "523\n",
      "541\n",
      "547\n",
      "557\n",
      "563\n",
      "569\n",
      "571\n",
      "577\n",
      "587\n",
      "593\n",
      "599\n",
      "601\n",
      "607\n",
      "613\n",
      "617\n",
      "619\n",
      "631\n",
      "641\n",
      "643\n",
      "647\n",
      "653\n",
      "659\n",
      "661\n",
      "673\n",
      "677\n",
      "683\n",
      "691\n",
      "701\n",
      "709\n",
      "719\n",
      "727\n",
      "733\n",
      "739\n",
      "743\n",
      "751\n",
      "757\n",
      "761\n",
      "769\n",
      "773\n",
      "787\n",
      "797\n",
      "809\n",
      "811\n",
      "821\n",
      "823\n",
      "827\n",
      "829\n",
      "839\n",
      "853\n",
      "857\n",
      "859\n",
      "863\n",
      "877\n",
      "881\n",
      "883\n",
      "887\n",
      "907\n",
      "911\n",
      "919\n",
      "929\n",
      "937\n",
      "941\n",
      "947\n",
      "953\n",
      "967\n",
      "971\n",
      "977\n",
      "983\n",
      "991\n",
      "997\n"
     ]
    }
   ],
   "source": [
    "def prime():\n",
    "    prime_list=[]\n",
    "    for num in range(1000):\n",
    "        if num <= 1:\n",
    "            continue\n",
    "        if num ==999:\n",
    "            break\n",
    "        for i in prime_list:\n",
    "            if num % i == 0:\n",
    "                break\n",
    "        else:\n",
    "            prime_list.append(num)\n",
    "            yield num\n",
    "        \n",
    "            \n",
    "prime_num=prime()\n",
    "\n",
    "for i in range(1000):\n",
    "    \n",
    "    p = next(prime_num, None)\n",
    "    if p == None:\n",
    "        break\n",
    "    else:\n",
    "        print(p)"
   ]
  },
  {
   "cell_type": "markdown",
   "id": "e4d2693c-7d4e-4ee0-8880-6e68fa09aa38",
   "metadata": {},
   "source": [
    "--------------------------------------------------------------OR------------------------------------------------------------------"
   ]
  },
  {
   "cell_type": "code",
   "execution_count": 155,
   "id": "a7e327d5-ca65-4ac8-823f-969b3075e607",
   "metadata": {},
   "outputs": [
    {
     "name": "stdout",
     "output_type": "stream",
     "text": [
      "2\n",
      "3\n",
      "5\n",
      "7\n",
      "11\n",
      "13\n",
      "17\n",
      "19\n",
      "23\n",
      "29\n",
      "31\n",
      "37\n",
      "41\n",
      "43\n",
      "47\n",
      "53\n",
      "59\n",
      "61\n",
      "67\n",
      "71\n",
      "73\n",
      "79\n",
      "83\n",
      "89\n",
      "97\n",
      "101\n",
      "103\n",
      "107\n",
      "109\n",
      "113\n",
      "127\n",
      "131\n",
      "137\n",
      "139\n",
      "149\n",
      "151\n",
      "157\n",
      "163\n",
      "167\n",
      "173\n",
      "179\n",
      "181\n",
      "191\n",
      "193\n",
      "197\n",
      "199\n",
      "211\n",
      "223\n",
      "227\n",
      "229\n"
     ]
    }
   ],
   "source": [
    "def prime():\n",
    "    prime_list=[]\n",
    "    for num in range(2, 1000):\n",
    "        for i in prime_list:\n",
    "            if num % i == 0:\n",
    "                break\n",
    "        else:\n",
    "            prime_list.append(num)\n",
    "            yield num\n",
    "        \n",
    "            \n",
    "prime_num=prime()\n",
    "\n",
    "for i in range(50):\n",
    "    prime = next(prime_num, None)\n",
    "    if prime is None:\n",
    "        break\n",
    "    print(prime)\n",
    "        "
   ]
  },
  {
   "cell_type": "code",
   "execution_count": null,
   "id": "be2eace1-29ba-43d9-9ed0-cc4929976295",
   "metadata": {},
   "outputs": [],
   "source": []
  },
  {
   "cell_type": "markdown",
   "id": "958fab13-6c9e-4b02-8b3c-fd3a064da844",
   "metadata": {},
   "source": [
    "Q6. Write a python program to print the first 10 Fibonacci numbers using a while loop."
   ]
  },
  {
   "cell_type": "code",
   "execution_count": 20,
   "id": "a8106088-fe98-43a4-9ca9-5df25b42f65c",
   "metadata": {},
   "outputs": [
    {
     "name": "stdin",
     "output_type": "stream",
     "text": [
      "Enter the number:  20\n"
     ]
    },
    {
     "name": "stdout",
     "output_type": "stream",
     "text": [
      "0\n",
      "1\n",
      "1\n",
      "2\n",
      "3\n",
      "5\n",
      "8\n",
      "13\n",
      "21\n",
      "34\n",
      "55\n",
      "89\n",
      "144\n",
      "233\n",
      "377\n",
      "610\n",
      "987\n",
      "1597\n",
      "2584\n",
      "4181\n"
     ]
    }
   ],
   "source": [
    "num = int(input(\"Enter the number: \"))\n",
    "a,b=0,1\n",
    "c=0\n",
    "count=1\n",
    "for i in range(num):\n",
    "    \n",
    "    print(c)\n",
    "    a=b\n",
    "    b=c\n",
    "    c=a+b\n",
    " \n",
    "    count+=1\n",
    "    if count>num:\n",
    "        break"
   ]
  },
  {
   "cell_type": "code",
   "execution_count": null,
   "id": "dec6156e-4f1d-4e72-8c4f-19e6552392bb",
   "metadata": {},
   "outputs": [],
   "source": []
  },
  {
   "cell_type": "markdown",
   "id": "78d849ec-ef68-4476-9673-fc52a54fb2ed",
   "metadata": {},
   "source": [
    "Q7. Write a List Comprehension to iterate through the given string: ‘pwskills’. \n",
    "    Expected output: ['p', 'w', 's', 'k', 'i', 'l', 'l', 's']"
   ]
  },
  {
   "cell_type": "code",
   "execution_count": 27,
   "id": "f041b22e-d36d-4b2d-9b68-87e7fbd74490",
   "metadata": {},
   "outputs": [
    {
     "data": {
      "text/plain": [
       "['p', 'w', 's', 'k', 'i', 'l', 'l', 's']"
      ]
     },
     "execution_count": 27,
     "metadata": {},
     "output_type": "execute_result"
    }
   ],
   "source": [
    "s=\"pwskills\"\n",
    "[i for i in s]"
   ]
  },
  {
   "cell_type": "markdown",
   "id": "01d0c583-46ae-4ca1-a301-23c18fb2aad4",
   "metadata": {},
   "source": [
    "--------------------------------OR-------------------------------------"
   ]
  },
  {
   "cell_type": "code",
   "execution_count": 23,
   "id": "3240b19c-eca4-42b6-bb0a-4ba34a936b32",
   "metadata": {},
   "outputs": [
    {
     "data": {
      "text/plain": [
       "['p', 'w', 's', 'k', 'i', 'l', 'l', 's']"
      ]
     },
     "execution_count": 23,
     "metadata": {},
     "output_type": "execute_result"
    }
   ],
   "source": [
    "s=\"pwskills\"\n",
    "\n",
    "l=list(s)\n",
    "l"
   ]
  },
  {
   "cell_type": "code",
   "execution_count": null,
   "id": "5e57591e-c253-4d5f-97a4-befb47d47b06",
   "metadata": {},
   "outputs": [],
   "source": []
  },
  {
   "cell_type": "markdown",
   "id": "d509125f-673b-46fa-9b10-44d100dbc49e",
   "metadata": {},
   "source": [
    "Q8. Write a python program to check whether a given number is Palindrome or not using a while loop."
   ]
  },
  {
   "cell_type": "code",
   "execution_count": 44,
   "id": "45707045-4f0f-447a-88e4-013e4ccdcfd6",
   "metadata": {},
   "outputs": [
    {
     "name": "stdin",
     "output_type": "stream",
     "text": [
      "Enter any number to check the given number is Palindrome or note:  478874\n"
     ]
    },
    {
     "name": "stdout",
     "output_type": "stream",
     "text": [
      "the given number:  478874  is Palindrome.\n"
     ]
    }
   ],
   "source": [
    "num=int(input(\"Enter any number to check the given number is Palindrome or note: \"))\n",
    "num=str(num)\n",
    "rnum=\"\"\n",
    "a=-1\n",
    "for i in num:\n",
    "    #print(i)\n",
    "    rnum+=num[a]\n",
    "    a=a-1\n",
    "    #print(rnum)\n",
    "if num==rnum:\n",
    "    print(\"the given number: \", num,\" is Palindrome.\")\n",
    "else:\n",
    "    print(\"given number: \",num,\" is not Palindrome\")"
   ]
  },
  {
   "cell_type": "code",
   "execution_count": null,
   "id": "f132108a-1750-4c24-ad51-80f5956b4c1a",
   "metadata": {},
   "outputs": [],
   "source": []
  },
  {
   "cell_type": "markdown",
   "id": "36102437-5eee-4742-9239-1cb7c915123b",
   "metadata": {},
   "source": [
    "Q9. Write a code to print odd numbers from 1 to 100 using list comprehension."
   ]
  },
  {
   "cell_type": "code",
   "execution_count": 61,
   "id": "963d6c9a-6748-4f06-97b5-7f0b10524e67",
   "metadata": {},
   "outputs": [
    {
     "name": "stdout",
     "output_type": "stream",
     "text": [
      "Odd number from 1 to 100:  [1, 3, 5, 7, 9, 11, 13, 15, 17, 19, 21, 23, 25, 27, 29, 31, 33, 35, 37, 39, 41, 43, 45, 47, 49, 51, 53, 55, 57, 59, 61, 63, 65, 67, 69, 71, 73, 75, 77, 79, 81, 83, 85, 87, 89, 91, 93, 95, 97, 99]\n"
     ]
    }
   ],
   "source": [
    "l_all=[i for i in range(1,101)]\n",
    "l_odd=[i for i in l if i %2==1]\n",
    "print(\"Odd number from 1 to 100: \",l_odd)"
   ]
  },
  {
   "cell_type": "markdown",
   "id": "04035ca2-ee0e-4ee1-8a35-cc9f4fe4735b",
   "metadata": {},
   "source": [
    "---------------------------------------------OR---------------------------------------------"
   ]
  },
  {
   "cell_type": "code",
   "execution_count": 67,
   "id": "2f21d186-83a9-4c22-a139-db4f55231012",
   "metadata": {},
   "outputs": [
    {
     "name": "stdout",
     "output_type": "stream",
     "text": [
      "Odd number from 1 to 100:  [1, 3, 5, 7, 9, 11, 13, 15, 17, 19, 21, 23, 25, 27, 29, 31, 33, 35, 37, 39, 41, 43, 45, 47, 49, 51, 53, 55, 57, 59, 61, 63, 65, 67, 69, 71, 73, 75, 77, 79, 81, 83, 85, 87, 89, 91, 93, 95, 97, 99]\n"
     ]
    }
   ],
   "source": [
    "\n",
    "l_odd=[i for i in range(0,100) if i %2==1]\n",
    "print(\"Odd number from 1 to 100: \",l_odd)"
   ]
  },
  {
   "cell_type": "code",
   "execution_count": null,
   "id": "d98d8392-eebc-4a10-b678-7a0257ed6ff1",
   "metadata": {},
   "outputs": [],
   "source": []
  }
 ],
 "metadata": {
  "kernelspec": {
   "display_name": "Python 3 (ipykernel)",
   "language": "python",
   "name": "python3"
  },
  "language_info": {
   "codemirror_mode": {
    "name": "ipython",
    "version": 3
   },
   "file_extension": ".py",
   "mimetype": "text/x-python",
   "name": "python",
   "nbconvert_exporter": "python",
   "pygments_lexer": "ipython3",
   "version": "3.10.8"
  }
 },
 "nbformat": 4,
 "nbformat_minor": 5
}
