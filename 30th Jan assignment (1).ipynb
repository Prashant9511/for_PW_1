{
 "cells": [
  {
   "cell_type": "markdown",
   "id": "8daf96f1-31d8-4f30-858f-17c2678f53ff",
   "metadata": {},
   "source": [
    "Q1:"
   ]
  },
  {
   "cell_type": "code",
   "execution_count": 4,
   "id": "605acdff-34fc-4dda-a3a4-eeee856a34dd",
   "metadata": {},
   "outputs": [
    {
     "name": "stdin",
     "output_type": "stream",
     "text": [
      "enter the marks 34\n"
     ]
    },
    {
     "name": "stdout",
     "output_type": "stream",
     "text": [
      "Grade is D\n"
     ]
    }
   ],
   "source": [
    "marks = int(input(\"enter the marks\"))\n",
    "\n",
    "if marks >90:\n",
    "    print(\"Grade is A \")\n",
    "elif marks >=80 and marks <=90:\n",
    "    print(\"Grade is B\")\n",
    "elif marks >=60 and marks <=80:\n",
    "    print(\"Grade is C\")\n",
    "elif marks <= 60:\n",
    "    print(\"Grade is D\")\n",
    "    "
   ]
  },
  {
   "cell_type": "code",
   "execution_count": null,
   "id": "6be2af42-575c-4259-ab57-d6c101594232",
   "metadata": {},
   "outputs": [],
   "source": []
  },
  {
   "cell_type": "markdown",
   "id": "183572f6-c5d6-4d23-bd78-30675ff0f57b",
   "metadata": {},
   "source": [
    "Q2:"
   ]
  },
  {
   "cell_type": "code",
   "execution_count": 6,
   "id": "a339dec7",
   "metadata": {},
   "outputs": [
    {
     "name": "stdout",
     "output_type": "stream",
     "text": [
      "enter the cost price of bike80000\n",
      "tax is 10%\n"
     ]
    }
   ],
   "source": [
    "cost_price = int(input(\"enter the cost price of bike\"))\n",
    "\n",
    "if cost_price >100000:\n",
    "    print(\"tax is 15%\")\n",
    "elif cost_price >50000 and cost_price <=100000:\n",
    "    print(\"tax is 10%\")\n",
    "elif cost_price <= 50000:\n",
    "    print(\"tax is 5%\")\n",
    "    "
   ]
  },
  {
   "cell_type": "code",
   "execution_count": null,
   "id": "28fd3c8a-dcf1-44c6-b1f0-006570ca6906",
   "metadata": {},
   "outputs": [],
   "source": []
  },
  {
   "cell_type": "markdown",
   "id": "5d83d3e6-cbb5-4e17-9284-1c82a2b5c74d",
   "metadata": {},
   "source": [
    "Q3:"
   ]
  },
  {
   "cell_type": "code",
   "execution_count": 5,
   "id": "c0da17ca",
   "metadata": {},
   "outputs": [
    {
     "name": "stdin",
     "output_type": "stream",
     "text": [
      "enter the name of city:  Jaipur\n"
     ]
    },
    {
     "name": "stdout",
     "output_type": "stream",
     "text": [
      "Monument is Jal Mahal\n"
     ]
    }
   ],
   "source": [
    "city = (input(\"enter the name of city: \"))\n",
    "if city == \"Delhi\":\n",
    "    print(\"Monument is Red fort\")\n",
    "if city == \"Aagra\":\n",
    "    print(\"Monument is Taj Mahal\")\n",
    "if city == \"Jaipur\":\n",
    "    print(\"Monument is Jal Mahal\")"
   ]
  },
  {
   "cell_type": "code",
   "execution_count": null,
   "id": "d3a69c2d-ea27-4ef3-a80a-7e968b612d58",
   "metadata": {},
   "outputs": [],
   "source": []
  },
  {
   "cell_type": "markdown",
   "id": "322586fa-1d01-42d8-8902-fe00597cfe2b",
   "metadata": {},
   "source": [
    "Q4:"
   ]
  },
  {
   "cell_type": "code",
   "execution_count": 12,
   "id": "0051d988",
   "metadata": {},
   "outputs": [
    {
     "name": "stdin",
     "output_type": "stream",
     "text": [
      "please enter the nymber 500\n"
     ]
    },
    {
     "name": "stdout",
     "output_type": "stream",
     "text": [
      "The given number  500  is devided by 3,  4  Times, before reducing it <= 10\n"
     ]
    }
   ],
   "source": [
    "num = int(input(\"please enter the nymber\"))\n",
    "i = 0\n",
    "ans=0\n",
    "num1=num\n",
    "for i in range(num):\n",
    "    ans=num/3\n",
    "    num=ans\n",
    "    i=i+1\n",
    "    if ans<=10:\n",
    "        print(\"The given number \",num1,\" is devided by 3, \", i,\" Times, before reducing it <= 10\")\n",
    "        break"
   ]
  },
  {
   "cell_type": "code",
   "execution_count": null,
   "id": "bab46d63-aa41-4a1b-bd02-a3120876f60e",
   "metadata": {},
   "outputs": [],
   "source": []
  },
  {
   "cell_type": "markdown",
   "id": "e161f4e1-bcbe-4369-94a2-b841efddca4f",
   "metadata": {},
   "source": [
    "Q5:"
   ]
  },
  {
   "cell_type": "markdown",
   "id": "6ebbaa38-e18f-4f56-9981-d257180d23c1",
   "metadata": {},
   "source": [
    "While loop:\n",
    "    \n",
    "    We use while loop when we want to run a loop till a perticular condition stays True, once the given condition turn False the loop will discontinue. \n",
    "    \n",
    "    In while loop we need to take a counter to run a loop. as mention \"a\" in bello ex. program."
   ]
  },
  {
   "cell_type": "code",
   "execution_count": 16,
   "id": "33f3ba21-02dc-4601-8b1f-c3413aa5b778",
   "metadata": {},
   "outputs": [
    {
     "name": "stdout",
     "output_type": "stream",
     "text": [
      "0\n",
      "1\n",
      "2\n",
      "3\n",
      "4\n",
      "5\n",
      "6\n",
      "7\n",
      "8\n",
      "9\n",
      "10\n"
     ]
    }
   ],
   "source": [
    "a=0\n",
    "\n",
    "while a<=10:\n",
    "    print(a)\n",
    "    a=a+1"
   ]
  },
  {
   "cell_type": "code",
   "execution_count": null,
   "id": "57749e85-1f24-4062-b6f2-780d3826e8d5",
   "metadata": {},
   "outputs": [],
   "source": []
  },
  {
   "cell_type": "markdown",
   "id": "e3dc779c-6a2f-4d34-944f-22e09457b07f",
   "metadata": {},
   "source": [
    "Q6:"
   ]
  },
  {
   "cell_type": "markdown",
   "id": "acd461bf-f714-43d5-9eb8-9ba78e4fa67c",
   "metadata": {},
   "source": [
    "This is not done in the calss, need to cover this topic in class"
   ]
  },
  {
   "cell_type": "code",
   "execution_count": null,
   "id": "8be0de58-8c4a-4349-a901-5ef237464363",
   "metadata": {},
   "outputs": [],
   "source": []
  },
  {
   "cell_type": "markdown",
   "id": "d1f423e3-a4a6-4001-ae19-f3076a2e2e41",
   "metadata": {},
   "source": [
    "Q7:"
   ]
  },
  {
   "cell_type": "code",
   "execution_count": 18,
   "id": "050089a0-830a-4fa7-9dfb-2f2c1632391b",
   "metadata": {},
   "outputs": [
    {
     "name": "stdout",
     "output_type": "stream",
     "text": [
      "10\n",
      "9\n",
      "8\n",
      "7\n",
      "6\n",
      "5\n",
      "4\n",
      "3\n",
      "2\n",
      "1\n"
     ]
    }
   ],
   "source": [
    "a=10\n",
    "\n",
    "while a>0:\n",
    "    print(a)\n",
    "    a=a-1"
   ]
  },
  {
   "cell_type": "code",
   "execution_count": null,
   "id": "9b593bb3-4a1a-4565-ac27-f8c5036bdcca",
   "metadata": {},
   "outputs": [],
   "source": []
  }
 ],
 "metadata": {
  "kernelspec": {
   "display_name": "Python 3 (ipykernel)",
   "language": "python",
   "name": "python3"
  },
  "language_info": {
   "codemirror_mode": {
    "name": "ipython",
    "version": 3
   },
   "file_extension": ".py",
   "mimetype": "text/x-python",
   "name": "python",
   "nbconvert_exporter": "python",
   "pygments_lexer": "ipython3",
   "version": "3.10.8"
  }
 },
 "nbformat": 4,
 "nbformat_minor": 5
}
