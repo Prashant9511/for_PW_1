{
 "cells": [
  {
   "cell_type": "code",
   "execution_count": null,
   "id": "cd4dd034-1d94-4fb0-8af9-78aaf2ed66e6",
   "metadata": {},
   "outputs": [],
   "source": []
  },
  {
   "cell_type": "markdown",
   "id": "309fa829-ea98-4808-80b5-89560af6da21",
   "metadata": {},
   "source": [
    "Q1. Which function is used to open a file? What are the different modes of opening a file? Explain each mode of file opening."
   ]
  },
  {
   "cell_type": "raw",
   "id": "867fd5ef-f7f1-4d6d-a34e-5467f4593f1c",
   "metadata": {},
   "source": [
    "open() : this function is use for opening a file"
   ]
  },
  {
   "cell_type": "raw",
   "id": "b524b782-623b-4a44-bc03-3115db6ca32f",
   "metadata": {},
   "source": [
    "'r'       open for reading (default)\n",
    "'w'       open for writing, truncating the file first\n",
    "'x'       create a new file and open it for writing\n",
    "'a'       open for writing, appending to the end of the file if it exists\n",
    "'b'       binary mode\n",
    "'t'       text mode (default)\n",
    "'+'       open a disk file for updating (reading and writing)\n",
    "'U'       universal newline mode (deprecated)"
   ]
  },
  {
   "cell_type": "code",
   "execution_count": null,
   "id": "404833b2-8e77-464f-b450-2a55d6e0965c",
   "metadata": {},
   "outputs": [],
   "source": []
  },
  {
   "cell_type": "markdown",
   "id": "5e945f71-4c3b-4c6a-8b8b-b6bdf82b7b48",
   "metadata": {},
   "source": [
    "Q2. Why close() function is used? Why is it important to close a file?"
   ]
  },
  {
   "cell_type": "raw",
   "id": "7cfc835a-6d2b-4520-825c-9a885202184b",
   "metadata": {},
   "source": [
    "We use close() function to close a file like we use open() to open it and perform operation\n",
    "\n",
    "it is important to release system resources, ensure data integrity, enhance security, and improve the portability of a program. It's important to always close files when they're no longer needed."
   ]
  },
  {
   "cell_type": "code",
   "execution_count": null,
   "id": "032f5aa7-b98b-4f5b-a69a-21d00f31c536",
   "metadata": {},
   "outputs": [],
   "source": []
  },
  {
   "cell_type": "markdown",
   "id": "291676e1-70a2-43ff-a7f9-1920e2699f4a",
   "metadata": {},
   "source": [
    "Q3. Write a python program to create a text file. Write ‘I want to become a Data Scientist’ in that file. Then close the file. Open this file and read the content of the file."
   ]
  },
  {
   "cell_type": "code",
   "execution_count": 15,
   "id": "485cbd73-ca22-4a1d-8c55-e9ac23ee95d7",
   "metadata": {},
   "outputs": [],
   "source": [
    "f = open(\"02.10.zfebAssign.txt\",\"w\")"
   ]
  },
  {
   "cell_type": "code",
   "execution_count": 16,
   "id": "b68d1272-8817-4839-b286-6e4b28f40f44",
   "metadata": {},
   "outputs": [
    {
     "data": {
      "text/plain": [
       "33"
      ]
     },
     "execution_count": 16,
     "metadata": {},
     "output_type": "execute_result"
    }
   ],
   "source": [
    "f.write(\"I want to become a Data Scientist\")"
   ]
  },
  {
   "cell_type": "code",
   "execution_count": 17,
   "id": "2410d02e-1397-499b-a008-12ca8ea1094c",
   "metadata": {},
   "outputs": [],
   "source": [
    "f.close()"
   ]
  },
  {
   "cell_type": "code",
   "execution_count": 18,
   "id": "8802073b-bbfe-4eb6-ae34-faacc47ec0ad",
   "metadata": {},
   "outputs": [],
   "source": [
    "f = open(\"02.10.zfebAssign.txt\",\"r\")"
   ]
  },
  {
   "cell_type": "code",
   "execution_count": 19,
   "id": "97e3262f-4f67-4d67-8d52-3c5e4ed2a79e",
   "metadata": {},
   "outputs": [
    {
     "data": {
      "text/plain": [
       "'I want to become a Data Scientist'"
      ]
     },
     "execution_count": 19,
     "metadata": {},
     "output_type": "execute_result"
    }
   ],
   "source": [
    "f.read()"
   ]
  },
  {
   "cell_type": "code",
   "execution_count": null,
   "id": "3debd726-0a55-4c34-8808-864071a3072b",
   "metadata": {},
   "outputs": [],
   "source": []
  },
  {
   "cell_type": "markdown",
   "id": "14f0946c-832d-4b26-9b5f-61a84572aa36",
   "metadata": {},
   "source": [
    "Q4. Explain the following with python code: read(), readline() and readlines()."
   ]
  },
  {
   "cell_type": "code",
   "execution_count": 20,
   "id": "99b38478-a8e1-4000-bd75-347853444d58",
   "metadata": {},
   "outputs": [],
   "source": [
    "f = open(\"02.10.zfebAssign.txt\",\"a\")"
   ]
  },
  {
   "cell_type": "code",
   "execution_count": 21,
   "id": "dbec6008-82a4-41f9-b6b7-10330428535b",
   "metadata": {},
   "outputs": [
    {
     "data": {
      "text/plain": [
       "32"
      ]
     },
     "execution_count": 21,
     "metadata": {},
     "output_type": "execute_result"
    }
   ],
   "source": [
    "f.write(\"\\n I will become a data scientist\")"
   ]
  },
  {
   "cell_type": "code",
   "execution_count": 22,
   "id": "e5862e36-69f7-486e-a08d-1cfbe89b01dd",
   "metadata": {},
   "outputs": [],
   "source": [
    "f = open(\"02.10.zfebAssign.txt\",\"r\")"
   ]
  },
  {
   "cell_type": "code",
   "execution_count": 23,
   "id": "a1e7856b-eac3-493c-bd5f-948f86214254",
   "metadata": {},
   "outputs": [
    {
     "data": {
      "text/plain": [
       "'I want to become a Data Scientist\\n I will become a data scientist'"
      ]
     },
     "execution_count": 23,
     "metadata": {},
     "output_type": "execute_result"
    }
   ],
   "source": [
    "f.read()"
   ]
  },
  {
   "cell_type": "code",
   "execution_count": 36,
   "id": "13e88b58-2997-4f79-94d0-45c4badec517",
   "metadata": {},
   "outputs": [
    {
     "data": {
      "text/plain": [
       "0"
      ]
     },
     "execution_count": 36,
     "metadata": {},
     "output_type": "execute_result"
    }
   ],
   "source": [
    "f.seek(0)"
   ]
  },
  {
   "cell_type": "code",
   "execution_count": 29,
   "id": "79b8654f-970b-4bcd-a47a-9e4c6e5fbeb8",
   "metadata": {},
   "outputs": [
    {
     "data": {
      "text/plain": [
       "'I want to become a Data Scientist\\n I will become a data scientist'"
      ]
     },
     "execution_count": 29,
     "metadata": {},
     "output_type": "execute_result"
    }
   ],
   "source": [
    "#read(): this function read entire file and gives output as a string\n",
    "f.read()"
   ]
  },
  {
   "cell_type": "code",
   "execution_count": 30,
   "id": "0e917047-e3f3-4019-a2d4-7d7b1cd643a8",
   "metadata": {},
   "outputs": [],
   "source": [
    "#readline(): this method reads a single line from a file and returns it as a string. each time it will pick a next line and give op as string"
   ]
  },
  {
   "cell_type": "code",
   "execution_count": 33,
   "id": "5c9a7a99-4bfa-49b2-b7a0-60178d79efd1",
   "metadata": {},
   "outputs": [
    {
     "data": {
      "text/plain": [
       "'I want to become a Data Scientist\\n'"
      ]
     },
     "execution_count": 33,
     "metadata": {},
     "output_type": "execute_result"
    }
   ],
   "source": [
    "f.readline()"
   ]
  },
  {
   "cell_type": "code",
   "execution_count": 34,
   "id": "de83df7b-f0c0-4852-bbea-01e7e6baee81",
   "metadata": {},
   "outputs": [
    {
     "data": {
      "text/plain": [
       "' I will become a data scientist'"
      ]
     },
     "execution_count": 34,
     "metadata": {},
     "output_type": "execute_result"
    }
   ],
   "source": [
    "f.readline()"
   ]
  },
  {
   "cell_type": "code",
   "execution_count": 37,
   "id": "67aa969f-3208-4900-aec6-29c82b3e0843",
   "metadata": {},
   "outputs": [
    {
     "data": {
      "text/plain": [
       "['I want to become a Data Scientist\\n', ' I will become a data scientist']"
      ]
     },
     "execution_count": 37,
     "metadata": {},
     "output_type": "execute_result"
    }
   ],
   "source": [
    "#readlines(): this method reads all the lines of a file and returns them as a list of strings. \n",
    "\n",
    "f.readlines()"
   ]
  },
  {
   "cell_type": "code",
   "execution_count": null,
   "id": "27df25bb-3b86-4966-a18f-f614ca45d17c",
   "metadata": {},
   "outputs": [],
   "source": []
  },
  {
   "cell_type": "markdown",
   "id": "51678144-d6c7-4511-bba5-c3cb9df245a8",
   "metadata": {},
   "source": [
    "Q5. Explain why with statement is used with open(). What is the advantage of using with statement and open() together?"
   ]
  },
  {
   "cell_type": "markdown",
   "id": "0a6d55d3-0411-42fd-bda1-b03561fa74ac",
   "metadata": {},
   "source": [
    "with statement is use with open() because if we want to handel json data type or want to perform operations over a file like shown in ex:"
   ]
  },
  {
   "cell_type": "code",
   "execution_count": 38,
   "id": "1805ab27-8945-42f2-83b1-a4c30c99231f",
   "metadata": {},
   "outputs": [
    {
     "name": "stdout",
     "output_type": "stream",
     "text": [
      "I want to become a Data Scientist\n",
      " I will become a data scientist\n"
     ]
    }
   ],
   "source": [
    "#we want to read a data\n",
    "\n",
    "with open(\"02.10.zfebAssign.txt\",\"r\") as f:\n",
    "    print(f.read())\n"
   ]
  },
  {
   "cell_type": "raw",
   "id": "5244c4ae-bcc1-46c2-8470-8a2de24f5fc6",
   "metadata": {},
   "source": [
    "Advantages:\n",
    "    \n",
    "    it help to reduce length of program\n",
    "    we can do multiple operation over data and file\n",
    "    eg: loop, conditional, etc"
   ]
  },
  {
   "cell_type": "code",
   "execution_count": null,
   "id": "1ab9c100-d536-4389-ab57-a24557800ab6",
   "metadata": {},
   "outputs": [],
   "source": []
  },
  {
   "cell_type": "markdown",
   "id": "5cec4224-7fb6-4b77-85c9-08321270fda5",
   "metadata": {},
   "source": [
    "Q6. Explain the write() and writelines() functions. Give a suitable example."
   ]
  },
  {
   "cell_type": "raw",
   "id": "809d78ca-cb1d-4f26-b1cc-d44df75d1139",
   "metadata": {},
   "source": [
    " write(): this function is used to write a single string to a file. It returns the number of characters written to the file. If the file doesn't exist, write() creates it. If it exists, write() overwrites the existing content."
   ]
  },
  {
   "cell_type": "code",
   "execution_count": 46,
   "id": "0b234a6f-70e2-4c20-9eef-3c58944555c9",
   "metadata": {},
   "outputs": [],
   "source": [
    "#example\n",
    "\n",
    "f = open(\"02.10.zassexample\",\"w\")"
   ]
  },
  {
   "cell_type": "code",
   "execution_count": 47,
   "id": "dc0d52ff-b49c-4008-9693-5ee0979719a2",
   "metadata": {},
   "outputs": [
    {
     "data": {
      "text/plain": [
       "216"
      ]
     },
     "execution_count": 47,
     "metadata": {},
     "output_type": "execute_result"
    }
   ],
   "source": [
    "f.write(\"this function is used to write a single string to a file. It returns the number of characters written to the file. If the file doesn't exist, write() creates it. If it exists, write() overwrites the existing content.\")"
   ]
  },
  {
   "cell_type": "code",
   "execution_count": 48,
   "id": "edc02ed6-0bf1-40ac-b609-69d5d8c844f5",
   "metadata": {},
   "outputs": [],
   "source": [
    "f = open(\"02.10.zassexample\",\"r\")"
   ]
  },
  {
   "cell_type": "code",
   "execution_count": 49,
   "id": "847e60d4-4fbe-4575-8031-3e2d9fce7cf6",
   "metadata": {},
   "outputs": [
    {
     "data": {
      "text/plain": [
       "0"
      ]
     },
     "execution_count": 49,
     "metadata": {},
     "output_type": "execute_result"
    }
   ],
   "source": [
    "f.seek(0)"
   ]
  },
  {
   "cell_type": "code",
   "execution_count": 50,
   "id": "bab982d2-a7d7-4b2e-90cd-4399db2e00a6",
   "metadata": {},
   "outputs": [
    {
     "data": {
      "text/plain": [
       "\"this function is used to write a single string to a file. It returns the number of characters written to the file. If the file doesn't exist, write() creates it. If it exists, write() overwrites the existing content.\""
      ]
     },
     "execution_count": 50,
     "metadata": {},
     "output_type": "execute_result"
    }
   ],
   "source": [
    "f.read()"
   ]
  },
  {
   "cell_type": "code",
   "execution_count": 51,
   "id": "81732c2c-5523-4057-b580-537d7c71fa6b",
   "metadata": {},
   "outputs": [],
   "source": [
    "f.close()"
   ]
  },
  {
   "cell_type": "code",
   "execution_count": null,
   "id": "eaa6792d-342d-41e5-a707-97d0daabea33",
   "metadata": {},
   "outputs": [],
   "source": []
  },
  {
   "cell_type": "raw",
   "id": "b90d8ae6-960f-4862-99e3-77750c9ca74d",
   "metadata": {},
   "source": [
    " writelines() : This function is used to write a list of strings to a file. Each string in the list represents a line of text in the file."
   ]
  },
  {
   "cell_type": "code",
   "execution_count": 52,
   "id": "b153a7f8-a3b1-4979-9540-4bbdb33951c4",
   "metadata": {},
   "outputs": [],
   "source": [
    "#example"
   ]
  },
  {
   "cell_type": "code",
   "execution_count": 64,
   "id": "4301c411-94bc-4a94-a5f2-66a8810ab9bb",
   "metadata": {},
   "outputs": [],
   "source": [
    "f = open(\"02.10.zassexample1\",\"w\")"
   ]
  },
  {
   "cell_type": "code",
   "execution_count": 65,
   "id": "c8eec10b-ba29-4921-94d4-1d264ff3499d",
   "metadata": {},
   "outputs": [],
   "source": [
    "lines=['This is the first line.\\n', 'This is the second line.\\n', 'This is the third line.\\n']"
   ]
  },
  {
   "cell_type": "code",
   "execution_count": 66,
   "id": "c9650485-f342-488d-b135-16fd0fe2916d",
   "metadata": {},
   "outputs": [],
   "source": [
    "f.writelines(lines)"
   ]
  },
  {
   "cell_type": "code",
   "execution_count": 67,
   "id": "6c9b8761-14fb-48c0-a720-e488f11da0c1",
   "metadata": {},
   "outputs": [],
   "source": [
    "f = open(\"02.10.zassexample1\",\"r\")"
   ]
  },
  {
   "cell_type": "code",
   "execution_count": 68,
   "id": "76a86db4-38bf-49bb-802c-9e6cb0b9923d",
   "metadata": {},
   "outputs": [
    {
     "data": {
      "text/plain": [
       "0"
      ]
     },
     "execution_count": 68,
     "metadata": {},
     "output_type": "execute_result"
    }
   ],
   "source": [
    "f.seek(0)"
   ]
  },
  {
   "cell_type": "code",
   "execution_count": 69,
   "id": "3cf8e035-6691-46a3-a39f-f6612fa35060",
   "metadata": {},
   "outputs": [
    {
     "data": {
      "text/plain": [
       "'This is the first line.\\nThis is the second line.\\nThis is the third line.\\n'"
      ]
     },
     "execution_count": 69,
     "metadata": {},
     "output_type": "execute_result"
    }
   ],
   "source": [
    "f.read()"
   ]
  },
  {
   "cell_type": "code",
   "execution_count": null,
   "id": "4e2be05a-1752-4ed7-a0bd-73b320600802",
   "metadata": {},
   "outputs": [],
   "source": []
  }
 ],
 "metadata": {
  "kernelspec": {
   "display_name": "Python 3 (ipykernel)",
   "language": "python",
   "name": "python3"
  },
  "language_info": {
   "codemirror_mode": {
    "name": "ipython",
    "version": 3
   },
   "file_extension": ".py",
   "mimetype": "text/x-python",
   "name": "python",
   "nbconvert_exporter": "python",
   "pygments_lexer": "ipython3",
   "version": "3.10.8"
  }
 },
 "nbformat": 4,
 "nbformat_minor": 5
}
