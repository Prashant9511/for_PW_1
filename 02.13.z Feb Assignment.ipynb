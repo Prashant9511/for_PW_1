{
 "cells": [
  {
   "cell_type": "code",
   "execution_count": null,
   "id": "262e6e3b-1eda-45dd-897e-4d9799bd2509",
   "metadata": {},
   "outputs": [],
   "source": []
  },
  {
   "cell_type": "markdown",
   "id": "3a2f2d6c-2eb0-4a51-bfd5-f9f6fa4fe637",
   "metadata": {},
   "source": [
    "Q1. Explain why we have to use the Exception class while creating a Custom Exception."
   ]
  },
  {
   "cell_type": "markdown",
   "id": "6d373336-6e06-4e5e-8edb-dfd62b26d435",
   "metadata": {},
   "source": [
    "Exception class is the base class / super class for all the exceptions. \n",
    "\n",
    "When we create a custom exception, we typically inherit from the Exception class to create our own specific type of exception."
   ]
  },
  {
   "cell_type": "code",
   "execution_count": null,
   "id": "51fc2c45-c95b-4d86-8bb2-1ac6e09cf131",
   "metadata": {},
   "outputs": [],
   "source": []
  },
  {
   "cell_type": "markdown",
   "id": "e13a127a-ab4e-4a1e-adbc-7a64d877611a",
   "metadata": {},
   "source": [
    "Q2. Write a python program to print Python Exception Hierarchy."
   ]
  },
  {
   "cell_type": "code",
   "execution_count": 1,
   "id": "cc9c87bd-a016-4d80-9859-f75fd9c36b3a",
   "metadata": {},
   "outputs": [
    {
     "name": "stdout",
     "output_type": "stream",
     "text": [
      "ArithmeticError\n",
      "AssertionError\n",
      "AttributeError\n",
      "BaseException\n",
      "BlockingIOError\n",
      "BrokenPipeError\n",
      "BufferError\n",
      "BytesWarning\n",
      "ChildProcessError\n",
      "ConnectionAbortedError\n",
      "ConnectionError\n",
      "ConnectionRefusedError\n",
      "ConnectionResetError\n",
      "DeprecationWarning\n",
      "EOFError\n",
      "EncodingWarning\n",
      "EnvironmentError\n",
      "Exception\n",
      "FileExistsError\n",
      "FileNotFoundError\n",
      "FloatingPointError\n",
      "FutureWarning\n",
      "GeneratorExit\n",
      "IOError\n",
      "ImportError\n",
      "ImportWarning\n",
      "IndentationError\n",
      "IndexError\n",
      "InterruptedError\n",
      "IsADirectoryError\n",
      "KeyError\n",
      "KeyboardInterrupt\n",
      "LookupError\n",
      "MemoryError\n",
      "ModuleNotFoundError\n",
      "NameError\n",
      "NotADirectoryError\n",
      "NotImplementedError\n",
      "OSError\n",
      "OverflowError\n",
      "PendingDeprecationWarning\n",
      "PermissionError\n",
      "ProcessLookupError\n",
      "RecursionError\n",
      "ReferenceError\n",
      "ResourceWarning\n",
      "RuntimeError\n",
      "RuntimeWarning\n",
      "StopAsyncIteration\n",
      "StopIteration\n",
      "SyntaxError\n",
      "SyntaxWarning\n",
      "SystemError\n",
      "SystemExit\n",
      "TabError\n",
      "TimeoutError\n",
      "TypeError\n",
      "UnboundLocalError\n",
      "UnicodeDecodeError\n",
      "UnicodeEncodeError\n",
      "UnicodeError\n",
      "UnicodeTranslateError\n",
      "UnicodeWarning\n",
      "UserWarning\n",
      "ValueError\n",
      "Warning\n",
      "ZeroDivisionError\n"
     ]
    }
   ],
   "source": [
    "def print_exception_hierarchy():\n",
    "    exceptions = []\n",
    "    for exception in dir(__builtins__):\n",
    "        if isinstance(getattr(__builtins__, exception), type) and issubclass(getattr(__builtins__, exception), BaseException):\n",
    "            exceptions.append(exception)\n",
    "    exceptions.sort()\n",
    "    for exception in exceptions:\n",
    "        print(exception)\n",
    "\n",
    "print_exception_hierarchy()\n"
   ]
  },
  {
   "cell_type": "code",
   "execution_count": null,
   "id": "26711079-faf8-4ab5-909f-20c32839e81e",
   "metadata": {},
   "outputs": [],
   "source": []
  },
  {
   "cell_type": "markdown",
   "id": "92ea2de8-528c-4529-8d5a-6cee41bb3166",
   "metadata": {},
   "source": [
    "Q3. What errors are defined in the ArithmeticError class? Explain any two with an example."
   ]
  },
  {
   "cell_type": "markdown",
   "id": "84eb74dd-f903-4739-ae2c-63666762e3a8",
   "metadata": {},
   "source": [
    "ArithmeticError class represents errors that occur during arithmetic operations, such as division by zero, ValueError, numeric overflow, or underflow, etc. "
   ]
  },
  {
   "cell_type": "code",
   "execution_count": 2,
   "id": "09cbb6b1-18e9-4ea0-b302-2d43d6b06d85",
   "metadata": {},
   "outputs": [
    {
     "name": "stdout",
     "output_type": "stream",
     "text": [
      "Error: Division by zero\n"
     ]
    }
   ],
   "source": [
    "#ZeroDivisionError\n",
    "\n",
    "try:\n",
    "    result = 10 / 0\n",
    "except ZeroDivisionError:\n",
    "    print(\"Error: Division by zero\")"
   ]
  },
  {
   "cell_type": "code",
   "execution_count": 2,
   "id": "5c3a555a-64f5-47a6-a4bd-c33050a10787",
   "metadata": {},
   "outputs": [
    {
     "name": "stdout",
     "output_type": "stream",
     "text": [
      "Error: invalid literal for int() with base 10: 'hello'\n"
     ]
    }
   ],
   "source": [
    "#ValueError\n",
    "\n",
    "try:\n",
    "    num = int(\"hello\")\n",
    "except ValueError as e:\n",
    "    print(\"Error:\", str(e))"
   ]
  },
  {
   "cell_type": "code",
   "execution_count": null,
   "id": "8233e793-a030-4573-bbf8-ac65a7087972",
   "metadata": {},
   "outputs": [],
   "source": []
  },
  {
   "cell_type": "markdown",
   "id": "8da68748-49e2-459a-837c-548d47f9e685",
   "metadata": {},
   "source": [
    "Q4. Why LookupError class is used? Explain with an example KeyError and IndexError."
   ]
  },
  {
   "cell_type": "markdown",
   "id": "32b47c49-d46b-4f57-809f-1c2cad776f2e",
   "metadata": {},
   "source": [
    "LookupError class is a base class for exceptions that occur when a specified key or index cannot be found in a collection. It is a subclass of the Exception class."
   ]
  },
  {
   "cell_type": "code",
   "execution_count": 3,
   "id": "c1b58428-b4cd-4901-96b7-686a7bd90982",
   "metadata": {},
   "outputs": [
    {
     "name": "stdout",
     "output_type": "stream",
     "text": [
      "Error: Key not found\n"
     ]
    }
   ],
   "source": [
    "my_dict = {'a': 1, 'b': 2, 'c': 3}\n",
    "try:\n",
    "    value = my_dict['d']\n",
    "except KeyError:\n",
    "    print(\"Error: Key not found\")"
   ]
  },
  {
   "cell_type": "code",
   "execution_count": 4,
   "id": "db919870-173a-4489-b55d-620b30fbd4d6",
   "metadata": {},
   "outputs": [
    {
     "name": "stdout",
     "output_type": "stream",
     "text": [
      "Error: Index out of range\n"
     ]
    }
   ],
   "source": [
    "my_list = [1, 2, 3]\n",
    "try:\n",
    "    value = my_list[3]\n",
    "except LookupError:\n",
    "    print(\"Error: Index out of range\")"
   ]
  },
  {
   "cell_type": "code",
   "execution_count": null,
   "id": "016a8617-31c9-4563-856b-2120815850df",
   "metadata": {},
   "outputs": [],
   "source": []
  },
  {
   "cell_type": "markdown",
   "id": "96c11563-82c6-4587-9222-85a149c4bf12",
   "metadata": {},
   "source": [
    "Q5. Explain ImportError. What is ModuleNotFoundError?"
   ]
  },
  {
   "cell_type": "markdown",
   "id": "aeee4611-2649-43ea-b58e-e50e70204f9b",
   "metadata": {},
   "source": [
    "ImportError is a built-in Python exception that is raised when a module cannot be imported. "
   ]
  },
  {
   "cell_type": "code",
   "execution_count": 5,
   "id": "94ed7bc8-d93f-4c5c-8b37-0910a8ea4250",
   "metadata": {},
   "outputs": [
    {
     "name": "stdout",
     "output_type": "stream",
     "text": [
      "No module named 'nonexistent_module'\n"
     ]
    }
   ],
   "source": [
    "try:\n",
    "    import nonexistent_module\n",
    "except ImportError as e:\n",
    "    print(e)"
   ]
  },
  {
   "cell_type": "code",
   "execution_count": null,
   "id": "f44c12ad-9d3b-490c-b120-2ba4a06f9bd2",
   "metadata": {},
   "outputs": [],
   "source": []
  },
  {
   "cell_type": "markdown",
   "id": "386d8fb0-8cbd-4085-a7a5-34da79ca26d4",
   "metadata": {},
   "source": [
    "Q6. List down some best practices for exception handling in python."
   ]
  },
  {
   "cell_type": "markdown",
   "id": "96e6ae28-db6f-446d-a21b-d59a47a6050b",
   "metadata": {},
   "source": [
    "1: Use always a specific exception\n",
    "\n",
    "2: print always a proper msg\n",
    "\n",
    "3: Always try to log your error\n",
    "\n",
    "4: always avoid to write a multiple exception handling\n",
    "\n",
    "5: document all the error\n",
    "\n",
    "6: Clean up all the resourses"
   ]
  },
  {
   "cell_type": "code",
   "execution_count": null,
   "id": "19815809-fc72-4a99-aa34-5c2ce17bed45",
   "metadata": {},
   "outputs": [],
   "source": []
  }
 ],
 "metadata": {
  "kernelspec": {
   "display_name": "Python 3 (ipykernel)",
   "language": "python",
   "name": "python3"
  },
  "language_info": {
   "codemirror_mode": {
    "name": "ipython",
    "version": 3
   },
   "file_extension": ".py",
   "mimetype": "text/x-python",
   "name": "python",
   "nbconvert_exporter": "python",
   "pygments_lexer": "ipython3",
   "version": "3.10.8"
  }
 },
 "nbformat": 4,
 "nbformat_minor": 5
}
