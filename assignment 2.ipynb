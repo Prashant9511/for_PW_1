{
 "cells": [
  {
   "cell_type": "code",
   "execution_count": 14,
   "id": "4f3944b3",
   "metadata": {},
   "outputs": [
    {
     "name": "stdout",
     "output_type": "stream",
     "text": [
      "10\n",
      "9\n",
      "8\n",
      "7\n",
      "6\n",
      "5\n",
      "4\n",
      "3\n",
      "2\n",
      "1\n",
      "0\n"
     ]
    }
   ],
   "source": [
    "num = 11\n",
    "while num>0:\n",
    "    num=num-1\n",
    "    print(num)\n",
    " "
   ]
  },
  {
   "cell_type": "code",
   "execution_count": 2,
   "id": "6a627bf7",
   "metadata": {},
   "outputs": [
    {
     "name": "stdout",
     "output_type": "stream",
     "text": [
      "55\n",
      "3628800\n"
     ]
    }
   ],
   "source": [
    "add= 0\n",
    "prod = 1\n",
    "for i in range(1,11):\n",
    "    add=add+i\n",
    "    prod=prod*i\n",
    "    \n",
    "print(add)\n",
    "print(prod)\n"
   ]
  },
  {
   "cell_type": "code",
   "execution_count": 4,
   "id": "ec9fb6b2",
   "metadata": {},
   "outputs": [
    {
     "name": "stdout",
     "output_type": "stream",
     "text": [
      "55\n",
      "3628800\n"
     ]
    }
   ],
   "source": [
    "add=0\n",
    "prod=1\n",
    "a=10\n",
    "while a>0:\n",
    "    add = add +a\n",
    "    prod = prod * a\n",
    "    a = a - 1\n",
    "print (add)\n",
    "print (prod)"
   ]
  },
  {
   "cell_type": "code",
   "execution_count": 5,
   "id": "9750b9ca",
   "metadata": {},
   "outputs": [
    {
     "name": "stdout",
     "output_type": "stream",
     "text": [
      "55\n",
      "3628800\n"
     ]
    }
   ],
   "source": [
    "add=0\n",
    "prod=1\n",
    "a=1\n",
    "while a<=10:\n",
    "    add = add +a\n",
    "    prod = prod * a\n",
    "    a = a + 1\n",
    "print (add)\n",
    "print (prod)"
   ]
  },
  {
   "cell_type": "code",
   "execution_count": null,
   "id": "32052dc6",
   "metadata": {},
   "outputs": [],
   "source": [
    "units =int(input(\"enter used units\"))\n",
    "\n",
    " "
   ]
  },
  {
   "cell_type": "code",
   "execution_count": null,
   "id": "82fabe14",
   "metadata": {},
   "outputs": [],
   "source": []
  },
  {
   "cell_type": "code",
   "execution_count": 2,
   "id": "4fbcecaf",
   "metadata": {},
   "outputs": [
    {
     "name": "stdout",
     "output_type": "stream",
     "text": [
      "list of vowels prsent in string ['I', 'a', 'o', 'e', 'o', 'e', 'a', 'a', 'a', 'i', 'e', 'i']\n",
      "number of vowels in given string 12\n"
     ]
    }
   ],
   "source": [
    "s = \"I want to become a data scientist\"\n",
    "v = [\"a\",\"e\",\"i\",\"o\",\"u\",\"A\",\"E\",\"I\",\"O\",\"U\"]\n",
    "s_v=[]\n",
    "count_v = 0\n",
    "for i in range(len(s)):\n",
    "    if s[i] in v:\n",
    "        s_v.append(s[i])\n",
    "        count_v=count_v+1\n",
    "print(\"list of vowels prsent in string\",s_v)\n",
    "print(\"number of vowels in given string\",count_v)"
   ]
  },
  {
   "cell_type": "code",
   "execution_count": 4,
   "id": "a4fb8f13",
   "metadata": {},
   "outputs": [
    {
     "name": "stdout",
     "output_type": "stream",
     "text": [
      "cube in 1to 100 numbers which is divisible by 4 0r 5:    [8, 64, 125, 216, 512, 1000, 1728, 2744, 3375, 4096, 5832, 8000, 10648, 13824, 15625, 17576, 21952, 27000, 32768, 39304, 42875, 46656, 54872, 64000, 74088, 85184, 91125, 97336, 110592, 125000, 140608, 157464, 166375, 175616, 195112, 216000, 238328, 262144, 274625, 287496, 314432, 343000, 373248, 405224, 421875, 438976, 474552, 512000, 551368, 592704, 614125, 636056, 681472, 729000, 778688, 830584, 857375, 884736, 941192, 1000000]\n"
     ]
    }
   ],
   "source": [
    "l1 = list(range(1,101))\n",
    "cube = 0\n",
    "l_cube=[]\n",
    "sortedlist =[]\n",
    "for i in l1:\n",
    "    l_cube.append(i**3)\n",
    "for j in l_cube:\n",
    "    if j%4 == 0 or j%5 == 0:\n",
    "        sortedlist.append(j)\n",
    "print(\"cube in 1to 100 numbers which is divisible by 4 0r 5:   \",sortedlist)\n"
   ]
  },
  {
   "cell_type": "code",
   "execution_count": 1,
   "id": "ece8bd35",
   "metadata": {},
   "outputs": [
    {
     "name": "stdout",
     "output_type": "stream",
     "text": [
      "cube in 1to 100 numbers which is divisible by 4 0r 5:    [0, 8, 64, 125, 216, 512, 1000, 1728, 2744, 3375, 4096, 5832, 8000, 10648, 13824, 15625, 17576, 21952, 27000, 32768, 39304, 42875, 46656, 54872, 64000, 74088, 85184, 91125, 97336, 110592, 125000, 140608, 157464, 166375, 175616, 195112, 216000, 238328, 262144, 274625, 287496, 314432, 343000, 373248, 405224, 421875, 438976, 474552, 512000, 551368, 592704, 614125, 636056, 681472, 729000, 778688, 830584, 857375, 884736, 941192]\n"
     ]
    }
   ],
   "source": [
    " \n",
    "cube = 0\n",
    "l_cube=[]\n",
    "sortedlist =[]\n",
    "n = 1\n",
    "i = 0\n",
    "while n <= 100:\n",
    "    l_cube.append(i**3)\n",
    "    if l_cube[i] % 4 == 0 or l_cube[i] % 5 == 0:\n",
    "        sortedlist.append(l_cube[i])\n",
    "    n = n+1\n",
    "    i = i+1\n",
    "print(\"cube in 1to 100 numbers which is divisible by 4 0r 5:   \",sortedlist)"
   ]
  },
  {
   "cell_type": "code",
   "execution_count": null,
   "id": "506d5e0d",
   "metadata": {},
   "outputs": [],
   "source": [
    "\n"
   ]
  },
  {
   "cell_type": "code",
   "execution_count": null,
   "id": "706599b8",
   "metadata": {},
   "outputs": [],
   "source": []
  }
 ],
 "metadata": {
  "kernelspec": {
   "display_name": "Python 3",
   "language": "python",
   "name": "python3"
  },
  "language_info": {
   "codemirror_mode": {
    "name": "ipython",
    "version": 3
   },
   "file_extension": ".py",
   "mimetype": "text/x-python",
   "name": "python",
   "nbconvert_exporter": "python",
   "pygments_lexer": "ipython3",
   "version": "3.8.8"
  }
 },
 "nbformat": 4,
 "nbformat_minor": 5
}
