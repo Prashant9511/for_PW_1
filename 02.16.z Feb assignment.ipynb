{
 "cells": [
  {
   "cell_type": "code",
   "execution_count": null,
   "id": "72cfe4ed-4320-4100-aa18-2ad40e7ba8c9",
   "metadata": {},
   "outputs": [],
   "source": []
  },
  {
   "cell_type": "markdown",
   "id": "7ac27ff5-8e07-4982-ae46-8087ad8cf7ef",
   "metadata": {},
   "source": [
    "Q1. What is a database? Differentiate between SQL and NoSQL databases."
   ]
  },
  {
   "cell_type": "markdown",
   "id": "ac7d8f33-0d85-45e3-aab0-18cfc8dd8488",
   "metadata": {},
   "source": [
    "A database is a structured collection of data that is organized and managed in a way that allows for efficient storage, retrieval, and manipulation of data. "
   ]
  },
  {
   "cell_type": "markdown",
   "id": "57548aa1-305e-40a2-b65b-c256d0f8d8b1",
   "metadata": {},
   "source": [
    "SQL databases, also known as relational databases, are based on the relational data model. Data in SQL databases is organized into tables. In row and collumn format"
   ]
  },
  {
   "cell_type": "markdown",
   "id": "a36e9d97-bbca-4210-bb26-035831f88484",
   "metadata": {},
   "source": [
    "NoSQL databases are non-relational databases that do not use the traditional table-based structure of SQL databases. Instead, they use a variety of data models such as audio, document, graph, or video, text file."
   ]
  },
  {
   "cell_type": "code",
   "execution_count": null,
   "id": "320f9090-9943-4b7d-b5ec-c14f14f091b5",
   "metadata": {},
   "outputs": [],
   "source": []
  },
  {
   "cell_type": "markdown",
   "id": "40f8817c-0688-4e1d-ad2c-13ca47553488",
   "metadata": {},
   "source": [
    "Q2. What is DDL? Explain why CREATE, DROP, ALTER, and TRUNCATE are used with an example."
   ]
  },
  {
   "cell_type": "markdown",
   "id": "dc11f4cf-0636-42bd-a478-ecb5704bdace",
   "metadata": {},
   "source": [
    "#ANSWER:\n",
    "\n",
    "DDL stands for Data Definition Language, which is a subset of SQL used to define and manage the structure of the database schema."
   ]
  },
  {
   "cell_type": "markdown",
   "id": "666da14e-9f85-4f18-876f-557551e761a4",
   "metadata": {},
   "source": []
  },
  {
   "cell_type": "code",
   "execution_count": null,
   "id": "3cee3875-c6b3-443f-9cdc-9c15fafc767b",
   "metadata": {},
   "outputs": [],
   "source": [
    "    #1: CREATE: The CREATE statement is used to create a new object in the database, such as a table.\n",
    "    #Example:\n",
    "import mysql.connector\n",
    "mydb = mysql.connector.connect(\n",
    "  host=\"localhost\",\n",
    "  user=\"abc\",\n",
    "  password=\"password\"\n",
    ")\n",
    "\n",
    "mycursor = mydb.cursor()\n",
    "mycursor.execute(\"CREATE TABLE if not EXISTS test2.test_table(c1 INT, c2 VARCHAR(50), c3 FLOAT, c4 INT, c5 VARCHAR(30))\")\n",
    "mydb.close()\n",
    "\n",
    "    #2: DROP: The DROP statement is used to delete an object from the database. \n",
    "\n",
    "    #Example:\n",
    "\n",
    "import mysql.connector\n",
    "mydb = mysql.connector.connect(\n",
    "  host=\"localhost\",\n",
    "  user=\"abc\",\n",
    "  password=\"password\"\n",
    ")\n",
    "\n",
    "mycursor = mydb.cursor()\n",
    "mycursor.execute(\"DROP TABLE test2.test_table\")\n",
    "mydb.close()\n",
    "\n",
    "    #3 ALTER: The ALTER statement is used to modify the structure of an existing object in the database, such as adding or removing columns from a table.\n",
    "\n",
    "    #Example:\n",
    "\n",
    "import mysql.connector\n",
    "mydb = mysql.connector.connect(\n",
    "  host=\"localhost\",\n",
    "  user=\"abc\",\n",
    "  password=\"password\"\n",
    ")\n",
    "\n",
    "mycursor = mydb.cursor()\n",
    "mycursor.execute(\"ALTER TABLE test2.test_table ADD (phone VARCHAR(15))\")\n",
    "mydb.close()\n",
    "\n",
    "    #4: TRUNCATE: The TRUNCATE statement is used to delete all data from a table, while keeping the structure intact. \n",
    "\n",
    "    #Example:\n",
    "\n",
    "import mysql.connector\n",
    "mydb = mysql.connector.connect(\n",
    "  host=\"localhost\",\n",
    "  user=\"abc\",\n",
    "  password=\"password\"\n",
    ")\n",
    "\n",
    "mycursor = mydb.cursor()\n",
    "mycursor.execute(\"TRUNCATE TABLE test2.test_table\")\n",
    "mydb.close()"
   ]
  },
  {
   "cell_type": "code",
   "execution_count": null,
   "id": "91542420-696d-4e23-8442-83a1b5eb9a26",
   "metadata": {},
   "outputs": [],
   "source": []
  },
  {
   "cell_type": "markdown",
   "id": "73c316b9-266f-4f97-bf93-7ecb7c2fa9a0",
   "metadata": {},
   "source": [
    "Q3. What is DML? Explain INSERT, UPDATE, and DELETE with an example."
   ]
  },
  {
   "cell_type": "code",
   "execution_count": null,
   "id": "a113ded8-69ff-4d75-8f5c-f4a7bc154e2e",
   "metadata": {},
   "outputs": [],
   "source": []
  },
  {
   "cell_type": "markdown",
   "id": "7ea69b90-d904-4748-9be6-172d343c9127",
   "metadata": {},
   "source": [
    "#ANSWER:\n",
    "\n",
    "DML stands for Data Manipulation Language, which is a subset of SQL used to insert, update, and delete data in a database."
   ]
  },
  {
   "cell_type": "code",
   "execution_count": null,
   "id": "103bf3d5-6e65-4cce-b37c-aa0fc1b57c71",
   "metadata": {},
   "outputs": [],
   "source": [
    "#INSERT:\n",
    "\n",
    "INSERT INTO employees (id, name, age, salary, department)\n",
    "VALUES (1, 'John', 30, 50000, 'IT');\n",
    "\n",
    "#UPDATE:\n",
    "\n",
    "UPDATE employees\n",
    "SET salary = 55000\n",
    "WHERE name = 'John';\n",
    "\n",
    "#DELETE\n",
    "\n",
    "DELETE FROM employees\n",
    "WHERE age > 40;"
   ]
  },
  {
   "cell_type": "code",
   "execution_count": null,
   "id": "65efa994-8183-434e-acfa-43304574cda1",
   "metadata": {},
   "outputs": [],
   "source": []
  },
  {
   "cell_type": "markdown",
   "id": "e2279e54-b5cd-4dd4-8d3c-1c5e688fdc32",
   "metadata": {},
   "source": [
    "Q4: DQL stands for Data Query Language, which is a subset of SQL used to retrieve data from a database. "
   ]
  },
  {
   "cell_type": "code",
   "execution_count": null,
   "id": "e18075ca-ab6c-4b5d-adde-86343b465278",
   "metadata": {},
   "outputs": [],
   "source": []
  },
  {
   "cell_type": "markdown",
   "id": "f8bfffc7-5991-42fb-b9be-1efbdec4883e",
   "metadata": {},
   "source": [
    "#ANSWER:\n",
    "\n",
    "DQL stands for Data Query Language, which is a subset of SQL used to retrieve data from a database. "
   ]
  },
  {
   "cell_type": "code",
   "execution_count": null,
   "id": "a372b89c-ba09-4b58-abd6-2047c04a5285",
   "metadata": {},
   "outputs": [],
   "source": [
    "import mysql.connector\n",
    "mydb = mysql.connector.connect(\n",
    "  host=\"localhost\",\n",
    "  user=\"abc\",\n",
    "  password=\"password\"\n",
    ")\n",
    "\n",
    "mycursor = mydb.cursor()\n",
    "#mycursor.execute(\"SELECT * FROM test2.test_table\")\n",
    "mycursor.execute(\"SELECT c1,c5 FROM test2.test_table\")\n",
    "for i in mycursor.fetchall():\n",
    "    print(i)\n",
    "mydb.close()"
   ]
  },
  {
   "cell_type": "code",
   "execution_count": null,
   "id": "73278a1d-ca59-4a81-b958-65d7b5a5cab0",
   "metadata": {},
   "outputs": [],
   "source": []
  },
  {
   "cell_type": "markdown",
   "id": "6a96d8cc-33d9-4dbb-9044-905166ca8936",
   "metadata": {},
   "source": [
    "Q5: Explain Primary Key and Foreign Key."
   ]
  },
  {
   "cell_type": "code",
   "execution_count": null,
   "id": "7e04328e-42b6-4eba-9af7-57d89c8f4971",
   "metadata": {},
   "outputs": [],
   "source": []
  },
  {
   "cell_type": "markdown",
   "id": "2413f30d-7d54-4224-a397-b27f5c059732",
   "metadata": {},
   "source": [
    "#ANSWER\n",
    "\n",
    "    A primary key is a column or combination of columns that uniquely identifies each record in a table.\n",
    "\n",
    "    A foreign key is a column or combination of columns in one table that refers to the primary key of another table."
   ]
  },
  {
   "cell_type": "code",
   "execution_count": null,
   "id": "fa0bc75f-bc81-4705-acc1-2d436f8c1aa9",
   "metadata": {},
   "outputs": [],
   "source": []
  },
  {
   "cell_type": "markdown",
   "id": "88bc11e7-fffa-4d46-a58f-5528b976d3ef",
   "metadata": {},
   "source": [
    "Q6: Write a python code to connect MySQL to python. Explain the cursor() and execute() method."
   ]
  },
  {
   "cell_type": "code",
   "execution_count": null,
   "id": "dc9f917e-e0a6-43ec-8a39-2bf95fce34e7",
   "metadata": {},
   "outputs": [],
   "source": [
    "#ANSWER:\n",
    "\n",
    "import mysql.connector\n",
    "mydb = mysql.connector.connect(\n",
    "  host=\"localhost\",\n",
    "  user=\"abc\",\n",
    "  password=\"password\"\n",
    ")\n",
    "\n",
    "mycursor = mydb.cursor()\n"
   ]
  },
  {
   "cell_type": "markdown",
   "id": "8acabf11-8e2f-4720-a8af-f80159207e8c",
   "metadata": {},
   "source": [
    "the cursor() method is used to create a cursor object, which is used to execute SQL queries and fetch results from the database. \n",
    "\n",
    "The execute() method is used to execute an SQL statement. It takes an SQL statement as a parameter and returns no values.\n"
   ]
  },
  {
   "cell_type": "code",
   "execution_count": null,
   "id": "177bc11d-eabf-4a44-9617-0db3edb3467b",
   "metadata": {},
   "outputs": [],
   "source": []
  },
  {
   "cell_type": "markdown",
   "id": "d5c9dfd4-12b0-4b86-a763-fdd83bf17090",
   "metadata": {},
   "source": [
    "#Q7. Give the order of execution of SQL clauses in an SQL query."
   ]
  },
  {
   "cell_type": "code",
   "execution_count": null,
   "id": "bb153655-fa1b-4a06-b737-4df3403fae05",
   "metadata": {},
   "outputs": [],
   "source": []
  },
  {
   "cell_type": "markdown",
   "id": "b0920694-1eb2-45bc-968a-5f59f6550dd0",
   "metadata": {},
   "source": [
    "\n",
    "\n",
    "#ANSWER:\n",
    "\n",
    "FROM clause: This clause specifies the table(s) from which the data is retrieved.\n",
    "\n",
    "JOIN clause: This clause is used to join multiple tables together.\n",
    "\n",
    "WHERE clause: This clause is used to filter the rows based on a condition.\n",
    "\n",
    "GROUP BY clause: This clause is used to group the rows based on one or more columns.\n",
    "\n",
    "HAVING clause: This clause is used to filter the groups based on a condition.\n",
    "\n",
    "SELECT clause: This clause is used to select the columns that will be included in the query results.\n",
    "\n",
    "DISTINCT clause: This clause is used to remove duplicate rows from the query results.\n",
    "\n",
    "ORDER BY clause: This clause is used to sort the rows in the query results based on one or more columns.\n",
    "\n",
    "LIMIT clause: This clause is used to limit the number of rows that are returned in the query results."
   ]
  },
  {
   "cell_type": "code",
   "execution_count": null,
   "id": "366c9bc9-9469-4216-bcc4-4b6a921f3d4d",
   "metadata": {},
   "outputs": [],
   "source": []
  }
 ],
 "metadata": {
  "kernelspec": {
   "display_name": "Python 3 (ipykernel)",
   "language": "python",
   "name": "python3"
  },
  "language_info": {
   "codemirror_mode": {
    "name": "ipython",
    "version": 3
   },
   "file_extension": ".py",
   "mimetype": "text/x-python",
   "name": "python",
   "nbconvert_exporter": "python",
   "pygments_lexer": "ipython3",
   "version": "3.10.8"
  }
 },
 "nbformat": 4,
 "nbformat_minor": 5
}
