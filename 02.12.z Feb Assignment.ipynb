{
 "cells": [
  {
   "cell_type": "code",
   "execution_count": null,
   "id": "e6676570-3237-4a0e-bfa2-8d63f5a954ab",
   "metadata": {},
   "outputs": [],
   "source": []
  },
  {
   "cell_type": "markdown",
   "id": "5038f8e4-6b67-4085-bd3b-83f1de894805",
   "metadata": {},
   "source": [
    "Q1. What is an Exception in python? Write the difference etween Exceptions and syntax errors"
   ]
  },
  {
   "cell_type": "markdown",
   "id": "9cb9da40-0a0d-468a-8217-fc593ba06264",
   "metadata": {},
   "source": [
    "exception: In Python, an exception is a type of error that occurs during program execution. "
   ]
  },
  {
   "cell_type": "markdown",
   "id": "862a9cfd-aa18-41d8-a14c-342e538665b7",
   "metadata": {},
   "source": [
    "Syntax errors:\n",
    "\n",
    "\n",
    "Missing colon after an if/elif/else statement or after a loop statement (for/while)\n",
    "\n",
    "Missing closing parenthesis, square bracket, or curly brace\n",
    "\n",
    "Misspelled keywords or function names\n",
    "\n",
    "Incorrect indentation (e.g., mixing tabs and spaces)\n",
    "\n",
    "Using an operator incorrectly (e.g., writing \"=\" instead of \"==\" for comparison)\n",
    "\n",
    "Using a reserved word as a variable name\n",
    "\n",
    "Missing quotes around a string\n",
    "\n",
    "Using a variable before it has been defined\n",
    "\n",
    "Incorrectly using escape characters in a string\n",
    "\n",
    "Mixing single and double quotes in a string."
   ]
  },
  {
   "cell_type": "code",
   "execution_count": null,
   "id": "5985860e-a4c6-4250-b4f4-28c4c9c7aae3",
   "metadata": {},
   "outputs": [],
   "source": []
  },
  {
   "cell_type": "markdown",
   "id": "607927c7-d5ad-4072-808d-1e7eb285ede4",
   "metadata": {},
   "source": [
    "Q2. What happens when an exception is not handled? Explain with an example"
   ]
  },
  {
   "cell_type": "markdown",
   "id": "7fc45235-3a41-4db1-ac70-3f51f000f03e",
   "metadata": {},
   "source": [
    "When an exception is not handled in Python, the program stops executing, and gives a long error, if we handle an exception then the error msg are more simple and understandable"
   ]
  },
  {
   "cell_type": "code",
   "execution_count": 2,
   "id": "78dacf80-4139-4764-a392-fca82b5c4f8a",
   "metadata": {},
   "outputs": [
    {
     "ename": "FileNotFoundError",
     "evalue": "[Errno 2] No such file or directory: 'nonexistent_file.txt'",
     "output_type": "error",
     "traceback": [
      "\u001b[0;31m---------------------------------------------------------------------------\u001b[0m",
      "\u001b[0;31mFileNotFoundError\u001b[0m                         Traceback (most recent call last)",
      "Cell \u001b[0;32mIn[2], line 2\u001b[0m\n\u001b[1;32m      1\u001b[0m \u001b[38;5;66;03m# Example  - FileNotFoundError\u001b[39;00m\n\u001b[0;32m----> 2\u001b[0m f \u001b[38;5;241m=\u001b[39m \u001b[38;5;28;43mopen\u001b[39;49m\u001b[43m(\u001b[49m\u001b[38;5;124;43m\"\u001b[39;49m\u001b[38;5;124;43mnonexistent_file.txt\u001b[39;49m\u001b[38;5;124;43m\"\u001b[39;49m\u001b[43m,\u001b[49m\u001b[43m \u001b[49m\u001b[38;5;124;43m\"\u001b[39;49m\u001b[38;5;124;43mr\u001b[39;49m\u001b[38;5;124;43m\"\u001b[39;49m\u001b[43m)\u001b[49m\n",
      "File \u001b[0;32m/opt/conda/lib/python3.10/site-packages/IPython/core/interactiveshell.py:282\u001b[0m, in \u001b[0;36m_modified_open\u001b[0;34m(file, *args, **kwargs)\u001b[0m\n\u001b[1;32m    275\u001b[0m \u001b[38;5;28;01mif\u001b[39;00m file \u001b[38;5;129;01min\u001b[39;00m {\u001b[38;5;241m0\u001b[39m, \u001b[38;5;241m1\u001b[39m, \u001b[38;5;241m2\u001b[39m}:\n\u001b[1;32m    276\u001b[0m     \u001b[38;5;28;01mraise\u001b[39;00m \u001b[38;5;167;01mValueError\u001b[39;00m(\n\u001b[1;32m    277\u001b[0m         \u001b[38;5;124mf\u001b[39m\u001b[38;5;124m\"\u001b[39m\u001b[38;5;124mIPython won\u001b[39m\u001b[38;5;124m'\u001b[39m\u001b[38;5;124mt let you open fd=\u001b[39m\u001b[38;5;132;01m{\u001b[39;00mfile\u001b[38;5;132;01m}\u001b[39;00m\u001b[38;5;124m by default \u001b[39m\u001b[38;5;124m\"\u001b[39m\n\u001b[1;32m    278\u001b[0m         \u001b[38;5;124m\"\u001b[39m\u001b[38;5;124mas it is likely to crash IPython. If you know what you are doing, \u001b[39m\u001b[38;5;124m\"\u001b[39m\n\u001b[1;32m    279\u001b[0m         \u001b[38;5;124m\"\u001b[39m\u001b[38;5;124myou can use builtins\u001b[39m\u001b[38;5;124m'\u001b[39m\u001b[38;5;124m open.\u001b[39m\u001b[38;5;124m\"\u001b[39m\n\u001b[1;32m    280\u001b[0m     )\n\u001b[0;32m--> 282\u001b[0m \u001b[38;5;28;01mreturn\u001b[39;00m \u001b[43mio_open\u001b[49m\u001b[43m(\u001b[49m\u001b[43mfile\u001b[49m\u001b[43m,\u001b[49m\u001b[43m \u001b[49m\u001b[38;5;241;43m*\u001b[39;49m\u001b[43margs\u001b[49m\u001b[43m,\u001b[49m\u001b[43m \u001b[49m\u001b[38;5;241;43m*\u001b[39;49m\u001b[38;5;241;43m*\u001b[39;49m\u001b[43mkwargs\u001b[49m\u001b[43m)\u001b[49m\n",
      "\u001b[0;31mFileNotFoundError\u001b[0m: [Errno 2] No such file or directory: 'nonexistent_file.txt'"
     ]
    }
   ],
   "source": [
    "# Example  - FileNotFoundError\n",
    "f = open(\"nonexistent_file.txt\", \"r\")"
   ]
  },
  {
   "cell_type": "code",
   "execution_count": null,
   "id": "3a168cbb-df2e-43af-9002-74b9f853b95e",
   "metadata": {},
   "outputs": [],
   "source": []
  },
  {
   "cell_type": "markdown",
   "id": "de35b9e9-759d-43de-bbb8-95d636a76fa8",
   "metadata": {},
   "source": [
    "Q3. Which Python statements are used to catch and handle exceptions? Explain with an example"
   ]
  },
  {
   "cell_type": "markdown",
   "id": "8e706ad9-4bdc-401b-8cd3-345ccbf22161",
   "metadata": {},
   "source": [
    " try and except statements are used to catch and handle exceptions."
   ]
  },
  {
   "cell_type": "code",
   "execution_count": 3,
   "id": "66e6bb24-d80c-46ed-88b2-70b92d5536ad",
   "metadata": {},
   "outputs": [
    {
     "name": "stdout",
     "output_type": "stream",
     "text": [
      "Cannot divide by zero\n"
     ]
    }
   ],
   "source": [
    "# Example - Handling division by zero error using try-except\n",
    "x = 10\n",
    "y = 0\n",
    "try:\n",
    "    z = x / y\n",
    "    print(z)\n",
    "except ZeroDivisionError:\n",
    "    print(\"Cannot divide by zero\")"
   ]
  },
  {
   "cell_type": "markdown",
   "id": "0da4e628-036f-46aa-bd2f-e7d4719926bd",
   "metadata": {},
   "source": [
    "or"
   ]
  },
  {
   "cell_type": "code",
   "execution_count": 4,
   "id": "9d5a3499-ced5-42b2-96b1-b9535a41bdca",
   "metadata": {},
   "outputs": [
    {
     "name": "stdout",
     "output_type": "stream",
     "text": [
      "division by zero\n"
     ]
    }
   ],
   "source": [
    "# Example - Handling division by zero error using try-except\n",
    "x = 10\n",
    "y = 0\n",
    "try:\n",
    "    z = x / y\n",
    "    print(z)\n",
    "except ZeroDivisionError as e:\n",
    "    print(e)"
   ]
  },
  {
   "cell_type": "code",
   "execution_count": null,
   "id": "80843c7c-03ac-4210-b0cb-6e5dba6cf02a",
   "metadata": {},
   "outputs": [],
   "source": []
  },
  {
   "cell_type": "markdown",
   "id": "69c3c818-2730-4b97-9086-db986427c583",
   "metadata": {},
   "source": [
    "Q4. Explain with an example:\n",
    "\n",
    "try and else\n",
    "\n",
    "finally\n",
    "\n",
    "raise"
   ]
  },
  {
   "cell_type": "code",
   "execution_count": null,
   "id": "297f3ac5-4a3a-451e-ba61-9e2bdda02c97",
   "metadata": {},
   "outputs": [],
   "source": []
  },
  {
   "cell_type": "markdown",
   "id": "e41c5dd2-42f3-4efc-8c38-b782dd0abe42",
   "metadata": {},
   "source": [
    "1: try and else: The else block is executed if the code in the try block does not raise an exception."
   ]
  },
  {
   "cell_type": "code",
   "execution_count": 5,
   "id": "6f9425e8-7e2b-471a-9c5f-485f320d2577",
   "metadata": {},
   "outputs": [
    {
     "name": "stdout",
     "output_type": "stream",
     "text": [
      "The result is: 0.5\n"
     ]
    }
   ],
   "source": [
    "try:\n",
    "    x = 1/2\n",
    "except ZeroDivisionError:\n",
    "    print(\"Cannot divide by zero\")\n",
    "else:\n",
    "    print(\"The result is:\", x)"
   ]
  },
  {
   "cell_type": "markdown",
   "id": "2069f085-52a1-4d35-b4e5-a586f6ebf6cd",
   "metadata": {},
   "source": [
    "2: finally: The finally block is executed regardless of whether an exception is raised or not."
   ]
  },
  {
   "cell_type": "code",
   "execution_count": 9,
   "id": "1a65e82d-53dc-4b29-bd78-fd1bf19269ce",
   "metadata": {},
   "outputs": [
    {
     "name": "stdout",
     "output_type": "stream",
     "text": [
      "the file is closed in finally block\n"
     ]
    }
   ],
   "source": [
    "try:\n",
    "    f = open(\"example.txt\", \"w\")\n",
    "    f.write(\"here is data\")\n",
    "except FileNotFoundError:\n",
    "    print(\"File not found\")\n",
    "finally:\n",
    "    f.close()\n",
    "    print(\"the file is closed in finally block\")"
   ]
  },
  {
   "cell_type": "markdown",
   "id": "2b5766b3-7374-49b1-9215-cd0a3f0608e9",
   "metadata": {},
   "source": [
    "3: raise: The raise statement is used to manually raise an exception. "
   ]
  },
  {
   "cell_type": "code",
   "execution_count": 10,
   "id": "41eac4c4-50c5-4f3e-881b-189b7160a2c2",
   "metadata": {},
   "outputs": [
    {
     "ename": "ValueError",
     "evalue": "x cannot be negative",
     "output_type": "error",
     "traceback": [
      "\u001b[0;31m---------------------------------------------------------------------------\u001b[0m",
      "\u001b[0;31mValueError\u001b[0m                                Traceback (most recent call last)",
      "Cell \u001b[0;32mIn[10], line 3\u001b[0m\n\u001b[1;32m      1\u001b[0m x \u001b[38;5;241m=\u001b[39m \u001b[38;5;241m-\u001b[39m\u001b[38;5;241m1\u001b[39m\n\u001b[1;32m      2\u001b[0m \u001b[38;5;28;01mif\u001b[39;00m x \u001b[38;5;241m<\u001b[39m \u001b[38;5;241m0\u001b[39m:\n\u001b[0;32m----> 3\u001b[0m     \u001b[38;5;28;01mraise\u001b[39;00m \u001b[38;5;167;01mValueError\u001b[39;00m(\u001b[38;5;124m\"\u001b[39m\u001b[38;5;124mx cannot be negative\u001b[39m\u001b[38;5;124m\"\u001b[39m)\n",
      "\u001b[0;31mValueError\u001b[0m: x cannot be negative"
     ]
    }
   ],
   "source": [
    "x = -1\n",
    "if x < 0:\n",
    "    raise ValueError(\"x cannot be negative\")"
   ]
  },
  {
   "cell_type": "code",
   "execution_count": null,
   "id": "b5221a32-3369-4907-8739-690e1e6b4dc6",
   "metadata": {},
   "outputs": [],
   "source": []
  },
  {
   "cell_type": "markdown",
   "id": "69d5633f-3e65-45e4-ba0e-7680e8553ca3",
   "metadata": {},
   "source": [
    "Q5. What are Custom Exceptions in python? Why do we need Custom Exceptions? Explain with an example"
   ]
  },
  {
   "cell_type": "markdown",
   "id": "a5a8d68a-98e5-4d1d-81ac-24c96f8be26a",
   "metadata": {},
   "source": [
    "Custom Exceptions are user-defined exceptions that can be raised just like built-in exceptions."
   ]
  },
  {
   "cell_type": "markdown",
   "id": "e31544fe-753e-448e-8f67-b1b4737c6549",
   "metadata": {},
   "source": [
    "We need Custom Exceptions to handle specific types of errors that are not handled by the built-in exceptions. "
   ]
  },
  {
   "cell_type": "code",
   "execution_count": 11,
   "id": "0e7182ae-13ea-4443-80e9-3fe296a039a7",
   "metadata": {},
   "outputs": [
    {
     "ename": "WithdrawalError",
     "evalue": "Insufficient balance",
     "output_type": "error",
     "traceback": [
      "\u001b[0;31m---------------------------------------------------------------------------\u001b[0m",
      "\u001b[0;31mWithdrawalError\u001b[0m                           Traceback (most recent call last)",
      "Cell \u001b[0;32mIn[11], line 12\u001b[0m\n\u001b[1;32m      9\u001b[0m         \u001b[38;5;28mprint\u001b[39m(\u001b[38;5;124m\"\u001b[39m\u001b[38;5;124mWithdrawal successful. New balance is:\u001b[39m\u001b[38;5;124m\"\u001b[39m, balance)\n\u001b[1;32m     11\u001b[0m balance \u001b[38;5;241m=\u001b[39m \u001b[38;5;241m1000\u001b[39m\n\u001b[0;32m---> 12\u001b[0m \u001b[43mwithdraw\u001b[49m\u001b[43m(\u001b[49m\u001b[38;5;241;43m1200\u001b[39;49m\u001b[43m,\u001b[49m\u001b[43m \u001b[49m\u001b[43mbalance\u001b[49m\u001b[43m)\u001b[49m\n",
      "Cell \u001b[0;32mIn[11], line 6\u001b[0m, in \u001b[0;36mwithdraw\u001b[0;34m(amount, balance)\u001b[0m\n\u001b[1;32m      4\u001b[0m \u001b[38;5;28;01mdef\u001b[39;00m \u001b[38;5;21mwithdraw\u001b[39m(amount, balance):\n\u001b[1;32m      5\u001b[0m     \u001b[38;5;28;01mif\u001b[39;00m amount \u001b[38;5;241m>\u001b[39m balance:\n\u001b[0;32m----> 6\u001b[0m         \u001b[38;5;28;01mraise\u001b[39;00m WithdrawalError(\u001b[38;5;124m\"\u001b[39m\u001b[38;5;124mInsufficient balance\u001b[39m\u001b[38;5;124m\"\u001b[39m)\n\u001b[1;32m      7\u001b[0m     \u001b[38;5;28;01melse\u001b[39;00m:\n\u001b[1;32m      8\u001b[0m         balance \u001b[38;5;241m-\u001b[39m\u001b[38;5;241m=\u001b[39m amount\n",
      "\u001b[0;31mWithdrawalError\u001b[0m: Insufficient balance"
     ]
    }
   ],
   "source": [
    "class WithdrawalError(Exception):\n",
    "    pass\n",
    "\n",
    "def withdraw(amount, balance):\n",
    "    if amount > balance:\n",
    "        raise WithdrawalError(\"Insufficient balance\")\n",
    "    else:\n",
    "        balance -= amount\n",
    "        print(\"Withdrawal successful. New balance is:\", balance)\n",
    "\n",
    "balance = 1000\n",
    "withdraw(1200, balance)"
   ]
  },
  {
   "cell_type": "code",
   "execution_count": null,
   "id": "7e5b8737-cd14-4083-b87c-b340623db151",
   "metadata": {},
   "outputs": [],
   "source": []
  },
  {
   "cell_type": "markdown",
   "id": "0ab2b772-46a7-4c14-a25b-0381cc56e45f",
   "metadata": {},
   "source": [
    "Q6. Create a custom exception class. Use this class to handle an exception."
   ]
  },
  {
   "cell_type": "code",
   "execution_count": 12,
   "id": "89874c3b-bd84-4c7d-8254-90781d84df7a",
   "metadata": {},
   "outputs": [
    {
     "name": "stdout",
     "output_type": "stream",
     "text": [
      "Number cannot be negative: -9\n"
     ]
    }
   ],
   "source": [
    "class NegativeNumberError(Exception):\n",
    "    def __init__(self, number):\n",
    "        self.number = number\n",
    "        self.message = \"Number cannot be negative: {}\".format(number)\n",
    "        super().__init__(self.message)\n",
    "\n",
    "def square_root(number):\n",
    "    if number < 0:\n",
    "        raise NegativeNumberError(number)\n",
    "    else:\n",
    "        return number ** 0.5\n",
    "\n",
    "try:\n",
    "    result = square_root(-9)\n",
    "except NegativeNumberError as e:\n",
    "    print(e.message)\n",
    "else:\n",
    "    print(result)\n",
    "\n",
    "    "
   ]
  },
  {
   "cell_type": "code",
   "execution_count": null,
   "id": "5c4d4e57-32d5-4ee6-8343-db37a5fde92d",
   "metadata": {},
   "outputs": [],
   "source": []
  }
 ],
 "metadata": {
  "kernelspec": {
   "display_name": "Python 3 (ipykernel)",
   "language": "python",
   "name": "python3"
  },
  "language_info": {
   "codemirror_mode": {
    "name": "ipython",
    "version": 3
   },
   "file_extension": ".py",
   "mimetype": "text/x-python",
   "name": "python",
   "nbconvert_exporter": "python",
   "pygments_lexer": "ipython3",
   "version": "3.10.8"
  }
 },
 "nbformat": 4,
 "nbformat_minor": 5
}
